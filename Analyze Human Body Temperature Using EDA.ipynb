{
 "cells": [
  {
   "cell_type": "markdown",
   "metadata": {},
   "source": [
    "Nilay Desai\n",
    "Springboard Project"
   ]
  },
  {
   "cell_type": "markdown",
   "metadata": {},
   "source": [
    "What is the True Normal Human Body Temperature?\n",
    "\n",
    "Background\n",
    "\n",
    "The mean normal body temperature was held to be 37 C or 98.6 F for more than 120 years since it was first conceptualized and reported by Carl Wunderlich in a famous 1868 book. But, is this value statistically correct?"
   ]
  },
  {
   "cell_type": "markdown",
   "metadata": {},
   "source": [
    "Exercises\n",
    "In this exercise, you will analyze a dataset of human body temperatures and employ the concepts of hypothesis testing, confidence intervals, and statistical significance.\n",
    "Answer the following questions in this notebook below and submit to your Github account.\n",
    "\t\t\t\t1. Is the distribution of body temperatures normal? \n",
    "\t\t\t\t\t○ Although this is not a requirement for the Central Limit Theorem to hold (read the introduction on Wikipedia's page about the CLT carefully: https://en.wikipedia.org/wiki/Central_limit_theorem), it gives us some peace of mind that the population may also be normally distributed if we assume that this sample is representative of the population. \n",
    "\t\t\t\t\t○ Think about the way you're going to check for the normality of the distribution. Graphical methods are usually used first, but there are also other ways: https://en.wikipedia.org/wiki/Normality_test \n",
    "\t\t\t\t2. Is the sample size large? Are the observations independent? \n",
    "\t\t\t\t\t○ Remember that this is a condition for the Central Limit Theorem, and hence the statistical tests we are using, to apply. \n",
    "\t\t\t\t3. Is the true population mean really 98.6 degrees F? \n",
    "\t\t\t\t\t○ First, try a bootstrap hypothesis test. \n",
    "\t\t\t\t\t○ Now, let's try frequentist statistical testing. Would you use a one-sample or two-sample test? Why? \n",
    "\t\t\t\t\t○ In this situation, is it appropriate to use the tt or zz statistic? \n",
    "\t\t\t\t\t○ Now try using the other test. How is the result be different? Why? \n",
    "\t\t\t\t4. Draw a small sample of size 10 from the data and repeat both frequentist tests. \n",
    "\t\t\t\t\t○ Which one is the correct one to use? \n",
    "\t\t\t\t\t○ What do you notice? What does this tell you about the difference in application of the tt and zz statistic? \n",
    "\t\t\t\t5. At what temperature should we consider someone's temperature to be \"abnormal\"? \n",
    "\t\t\t\t\t○ As in the previous example, try calculating everything using the boostrap approach, as well as the frequentist approach. \n",
    "\t\t\t\t\t○ Start by computing the margin of error and confidence interval. When calculating the confidence interval, keep in mind that you should use the appropriate formula for one draw, and not N draws. \n",
    "\t\t\t\t6. Is there a significant difference between males and females in normal temperature? \n",
    "\t\t\t\t\t○ What testing approach did you use and why? \n",
    "\t\t\t\t\t○ Write a story with your conclusion in the context of the original problem. \n",
    "\t\t\tYou can include written notes in notebook cells using Markdown: \n",
    "\t\t\t\t• In the control panel at the top, choose Cell > Cell Type > Markdown\n",
    "\t\t\t\t• Markdown syntax: http://nestacms.com/docs/creating-content/markdown-cheat-sheet\n",
    "\t\t\tResources\n",
    "\t\t\t\t• Information and data sources: http://www.amstat.org/publications/jse/datasets/normtemp.txt, http://www.amstat.org/publications/jse/jse_data_archive.htm\n",
    "\t\t\t\t• Markdown syntax: http://nestacms.com/docs/creating-content/markdown-cheat-sheet"
   ]
  },
  {
   "cell_type": "code",
   "execution_count": 77,
   "metadata": {},
   "outputs": [],
   "source": [
    "import pandas as pd\n",
    "\n",
    "df = pd.read_csv('data/human_body_temperature.csv')"
   ]
  },
  {
   "cell_type": "code",
   "execution_count": 78,
   "metadata": {},
   "outputs": [],
   "source": [
    "from scipy import stats\n",
    "import matplotlib.pyplot as plt\n",
    "import numpy as np\n",
    "import seaborn as sns\n",
    "from scipy.special import ndtr as ndtr\n",
    "from scipy import stats\n",
    "import random\n",
    "import scipy"
   ]
  },
  {
   "cell_type": "code",
   "execution_count": 79,
   "metadata": {},
   "outputs": [],
   "source": [
    "k2, p = stats.normaltest(df.temperature)"
   ]
  },
  {
   "cell_type": "code",
   "execution_count": 80,
   "metadata": {},
   "outputs": [
    {
     "data": {
      "text/plain": [
       "0.2587479863488254"
      ]
     },
     "execution_count": 80,
     "metadata": {},
     "output_type": "execute_result"
    }
   ],
   "source": [
    "#cannot reject the null hypothesis that this is a normal dist\n",
    "p"
   ]
  },
  {
   "cell_type": "code",
   "execution_count": 81,
   "metadata": {},
   "outputs": [],
   "source": [
    "def ecdf(data):\n",
    "    \"\"\"Compute ECDF for a one-dimensional array of measurements.\"\"\"\n",
    "    # Number of data points: n\n",
    "    n = len(data)\n",
    "\n",
    "    # x-data for the ECDF: x\n",
    "    x = np.sort(data)\n",
    "\n",
    "    # y-data for the ECDF: y\n",
    "    y = np.arange(1, n+1) / n\n",
    "\n",
    "    return x, y"
   ]
  },
  {
   "cell_type": "code",
   "execution_count": 82,
   "metadata": {},
   "outputs": [
    {
     "data": {
      "image/png": "[encoded data removed]",
      "text/plain": [
       "<matplotlib.figure.Figure at 0x1536cfd1ac8>"
      ]
     },
     "metadata": {},
     "output_type": "display_data"
    }
   ],
   "source": [
    "#distribution looks normal \n",
    "x,y = ecdf(df.temperature.values)\n",
    "_ = plt.plot(x, y, marker='.', linestyle='none')\n",
    "\n",
    "# Label the axes\n",
    "_ = plt.xlabel('temp')\n",
    "_ = plt.ylabel('ECDF')\n",
    "\n",
    "\n",
    "# Display the plot\n",
    "plt.show()"
   ]
  },
  {
   "cell_type": "code",
   "execution_count": 83,
   "metadata": {},
   "outputs": [
    {
     "data": {
      "text/plain": [
       "<matplotlib.axes._subplots.AxesSubplot at 0x1536c469ba8>"
      ]
     },
     "execution_count": 83,
     "metadata": {},
     "output_type": "execute_result"
    },
    {
     "data": {
      "image/png": "[encoded data removed]",
      "text/plain": [
       "<matplotlib.figure.Figure at 0x1536ca65470>"
      ]
     },
     "metadata": {},
     "output_type": "display_data"
    }
   ],
   "source": [
    "#hist - looks like a normal distribution\n",
    "sns.distplot(df['temperature'], hist=True, kde=True, color = 'darkblue', \n",
    "             bins=48, hist_kws={'edgecolor':'black'},\n",
    "             kde_kws={'linewidth': 2})"
   ]
  },
  {
   "cell_type": "code",
   "execution_count": 84,
   "metadata": {},
   "outputs": [],
   "source": [
    "#Is the sample size large? Are the observations independent? \n",
    "sample_size = len(df.temperature) #130 - yes its larger than 30 so it satisfies the condition of CLT \n",
    "#Observations are independent because one observation doesnt affect the others\n",
    "#Remember that this is a condition for the Central Limit Theorem, and hence the statistical tests we are using, to apply. "
   ]
  },
  {
   "cell_type": "code",
   "execution_count": 85,
   "metadata": {},
   "outputs": [],
   "source": [
    "#Is the true population mean really 98.6 degrees F? \n",
    "#observed mean = 98.25\n",
    "#First, try a bootstrap hypothesis test. answer - 98.2491013846154\n",
    "#Now, let's try frequentist statistical testing. Would you use a one-sample or two-sample test? Why? One sample because the data is from the same population\n",
    "#In this situation, is it appropriate to use the t or z statistic? \n",
    "#answer - z test because Z-tests are statistical calculations that can be used to compare population means to a sample's. The z-score tells you how far, in standard deviations, a data point is from the mean or average of a data set. A z-test compares a sample to a defined population and is typically used for dealing with problems relating to large samples (n > 30). Z-tests can also be helpful when we want to test a hypothesis. Generally, they are most useful when the standard deviation is known.\n",
    "#Now try using the other test. How is the result be different? Why?"
   ]
  },
  {
   "cell_type": "code",
   "execution_count": 86,
   "metadata": {},
   "outputs": [
    {
     "data": {
      "text/plain": [
       "98.24923076923078"
      ]
     },
     "execution_count": 86,
     "metadata": {},
     "output_type": "execute_result"
    }
   ],
   "source": [
    "df.temperature.mean()"
   ]
  },
  {
   "cell_type": "code",
   "execution_count": 87,
   "metadata": {},
   "outputs": [
    {
     "data": {
      "image/png": "[encoded data removed]",
      "text/plain": [
       "<matplotlib.figure.Figure at 0x1536d58b7f0>"
      ]
     },
     "metadata": {},
     "output_type": "display_data"
    }
   ],
   "source": [
    "for _ in range(50):\n",
    "    # Generate bootstrap sample: bs_sample\n",
    "    bs_sample = np.random.choice(df.temperature, size=len(df.temperature))\n",
    "\n",
    "    # Compute and plot ECDF from bootstrap sample\n",
    "    x, y = ecdf(bs_sample)\n",
    "    _ = plt.plot(x, y, marker='.', linestyle='none',\n",
    "                 color='gray', alpha=0.1)\n",
    "\n",
    "# Compute and plot ECDF from original data\n",
    "x, y = ecdf(df.temperature)\n",
    "_ = plt.plot(x, y, marker='.')\n",
    "\n",
    "# Make margins and label axes\n",
    "plt.margins(0.02)\n",
    "_ = plt.xlabel('temp in celcius')\n",
    "_ = plt.ylabel('ECDF')\n",
    "\n",
    "# Show the plot\n",
    "plt.show()"
   ]
  },
  {
   "cell_type": "code",
   "execution_count": 88,
   "metadata": {},
   "outputs": [],
   "source": [
    "def bootstrap_replicate_1d(data, func):\n",
    "    return func(np.random.choice(data, size=len(data)))\n",
    "#shift the temperature"
   ]
  },
  {
   "cell_type": "code",
   "execution_count": 89,
   "metadata": {},
   "outputs": [],
   "source": [
    "def draw_bs_reps(data, func, size):\n",
    "    \"\"\"Draw bootstrap replicates.\"\"\"\n",
    "\n",
    "    # Initialize array of replicates: bs_replicates\n",
    "    bs_replicates = np.empty(size)\n",
    "\n",
    "    # Generate replicates\n",
    "    for i in range(size):\n",
    "        bs_replicates[i] = bootstrap_replicate_1d(data, func)\n",
    "\n",
    "    return bs_replicates"
   ]
  },
  {
   "cell_type": "code",
   "execution_count": 95,
   "metadata": {},
   "outputs": [
    {
     "name": "stdout",
     "output_type": "stream",
     "text": [
      "0.06405661469519336\n",
      "0.06484267961306325\n"
     ]
    },
    {
     "data": {
      "image/png": "[encoded data removed]",
      "text/plain": [
       "<matplotlib.figure.Figure at 0x1536d6baa20>"
      ]
     },
     "metadata": {},
     "output_type": "display_data"
    }
   ],
   "source": [
    "# Take 10,000 bootstrap replicates of the mean: bs_replicates\n",
    "translated_temp = df.temperature - np.mean(df.temperature) + 98.6\n",
    "bs_replicates = draw_bs_reps(translated_temp, np.mean, 10000)\n",
    "# Compute and print SEM\n",
    "sem = np.std(df.temperature) / np.sqrt(len(df.temperature))\n",
    "print(sem)\n",
    "\n",
    "# Compute and print standard deviation of bootstrap replicates\n",
    "bs_std = np.std(bs_replicates)\n",
    "print(bs_std)\n",
    "\n",
    "# Make a histogram of the results\n",
    "_ = plt.hist(bs_replicates, bins=50, normed=True)\n",
    "_ = plt.xlabel('mean temp (celcius)')\n",
    "_ = plt.ylabel('PDF')\n",
    "\n",
    "# Show the plot\n",
    "plt.show()"
   ]
  },
  {
   "cell_type": "code",
   "execution_count": 96,
   "metadata": {},
   "outputs": [
    {
     "name": "stdout",
     "output_type": "stream",
     "text": [
      "98.60023853846153\n",
      "0.06484267961306325\n",
      "98.24923076923078\n"
     ]
    }
   ],
   "source": [
    "print(bs_replicates.mean())\n",
    "print(bs_replicates.std())\n",
    "print(df.temperature.mean())"
   ]
  },
  {
   "cell_type": "code",
   "execution_count": 102,
   "metadata": {},
   "outputs": [
    {
     "data": {
      "text/plain": [
       "91"
      ]
     },
     "execution_count": 102,
     "metadata": {},
     "output_type": "execute_result"
    }
   ],
   "source": [
    "np.sum(df.temperature <= 98.6) "
   ]
  },
  {
   "cell_type": "code",
   "execution_count": 103,
   "metadata": {},
   "outputs": [],
   "source": [
    "p = np.sum(bs_replicates <= 98.6) / 10000"
   ]
  },
  {
   "cell_type": "code",
   "execution_count": 104,
   "metadata": {},
   "outputs": [
    {
     "data": {
      "text/plain": [
       "0.4966"
      ]
     },
     "execution_count": 104,
     "metadata": {},
     "output_type": "execute_result"
    }
   ],
   "source": [
    "p\n",
    "#p value greater than 0.01 alpha there cannot reject the null hypothesis that the avg body temp is 98.6"
   ]
  },
  {
   "cell_type": "code",
   "execution_count": 105,
   "metadata": {},
   "outputs": [
    {
     "name": "stdout",
     "output_type": "stream",
     "text": [
      "98.24923076923078\n",
      "0.7331831580389454\n"
     ]
    }
   ],
   "source": [
    "#frequentist thinking\n",
    "print(df.temperature.mean())\n",
    "print(df.temperature.std())"
   ]
  },
  {
   "cell_type": "code",
   "execution_count": 57,
   "metadata": {},
   "outputs": [],
   "source": [
    "#calculate the zscores\n",
    "col_zscore = (df.temperature.mean() - 98.6)/(df.temperature.std(ddof=0) / np.sqrt(130))\n",
    "#divide sample std/ sqrt(n)"
   ]
  },
  {
   "cell_type": "code",
   "execution_count": 58,
   "metadata": {},
   "outputs": [
    {
     "data": {
      "text/plain": [
       "-5.475925202078116"
      ]
     },
     "execution_count": 58,
     "metadata": {},
     "output_type": "execute_result"
    }
   ],
   "source": [
    "col_zscore\n",
    "#decision rule - 2 sided test. alpha = .05 therefore abs z val must be > 1.96"
   ]
  },
  {
   "cell_type": "code",
   "execution_count": 59,
   "metadata": {},
   "outputs": [
    {
     "data": {
      "text/plain": [
       "0.9999999782384241"
      ]
     },
     "execution_count": 59,
     "metadata": {},
     "output_type": "execute_result"
    }
   ],
   "source": [
    "#calculate p scores\n",
    "p_vals = 1 - ndtr(col_zscore)\n",
    "p_vals"
   ]
  },
  {
   "cell_type": "code",
   "execution_count": 62,
   "metadata": {},
   "outputs": [
    {
     "data": {
      "text/plain": [
       "4.3523151658821886e-08"
      ]
     },
     "execution_count": 62,
     "metadata": {},
     "output_type": "execute_result"
    }
   ],
   "source": [
    "scipy.stats.norm.sf(abs(col_zscore))*2 "
   ]
  },
  {
   "cell_type": "code",
   "execution_count": 24,
   "metadata": {},
   "outputs": [],
   "source": [
    "stat_significant = p_vals < .05"
   ]
  },
  {
   "cell_type": "code",
   "execution_count": 25,
   "metadata": {},
   "outputs": [
    {
     "data": {
      "text/plain": [
       "False"
      ]
     },
     "execution_count": 25,
     "metadata": {},
     "output_type": "execute_result"
    }
   ],
   "source": [
    "stat_significant\n",
    "#cannot reject the null hypothesis because it is not statistically significant."
   ]
  },
  {
   "cell_type": "code",
   "execution_count": 26,
   "metadata": {},
   "outputs": [],
   "source": [
    "#run a t test \n",
    "t = (df.temperature.mean() - 98.6) / (df.temperature.std() / np.sqrt(len(df.temperature)))"
   ]
  },
  {
   "cell_type": "code",
   "execution_count": 27,
   "metadata": {},
   "outputs": [
    {
     "data": {
      "text/plain": [
       "2.4106320415609943e-07"
      ]
     },
     "execution_count": 27,
     "metadata": {},
     "output_type": "execute_result"
    }
   ],
   "source": [
    "pval = stats.t.sf(np.abs(t), len(df.temperature)-1)*2\n",
    "pval"
   ]
  },
  {
   "cell_type": "code",
   "execution_count": 28,
   "metadata": {},
   "outputs": [],
   "source": [
    "#p value smaller than .01 therefore reject the null hypothesis that the mean is 98.6 degrees celcius\n",
    "#Results different because using a t value test which is meant for smaller samples of 30 or less "
   ]
  },
  {
   "cell_type": "code",
   "execution_count": 29,
   "metadata": {},
   "outputs": [],
   "source": [
    "#question 4\n",
    "temp_sample = random.sample(list(df.temperature), k =10)"
   ]
  },
  {
   "cell_type": "code",
   "execution_count": 66,
   "metadata": {},
   "outputs": [],
   "source": [
    "sample_z = (np.mean(temp_sample) - 98.6)/(np.std(temp_sample) / np.sqrt(10))"
   ]
  },
  {
   "cell_type": "code",
   "execution_count": 67,
   "metadata": {},
   "outputs": [
    {
     "name": "stdout",
     "output_type": "stream",
     "text": [
      "-0.7883206675919071\n"
     ]
    },
    {
     "data": {
      "text/plain": [
       "0.43050916153644325"
      ]
     },
     "execution_count": 67,
     "metadata": {},
     "output_type": "execute_result"
    }
   ],
   "source": [
    "print(sample_z)\n",
    "1 - ndtr(sample_z)\n",
    "#cannot reject null\n",
    "scipy.stats.norm.sf(abs(sample_z))*2 "
   ]
  },
  {
   "cell_type": "code",
   "execution_count": 32,
   "metadata": {},
   "outputs": [
    {
     "data": {
      "text/plain": [
       "0.45077316402417456"
      ]
     },
     "execution_count": 32,
     "metadata": {},
     "output_type": "execute_result"
    }
   ],
   "source": [
    "#run a t test \n",
    "t_sample = (np.mean(temp_sample) - 98.6) / (np.std(temp_sample) / np.sqrt(10))\n",
    "pval_sample = stats.t.sf(np.abs(t_sample), len(temp_sample)-1)*2\n",
    "pval_sample"
   ]
  },
  {
   "cell_type": "code",
   "execution_count": 33,
   "metadata": {},
   "outputs": [],
   "source": [
    "#cannot reject null - difference when the sample size was much larger than 30 and the degrees of freedom were different\n",
    "#t stat to be used for smaller samples "
   ]
  },
  {
   "cell_type": "code",
   "execution_count": 34,
   "metadata": {},
   "outputs": [
    {
     "name": "stdout",
     "output_type": "stream",
     "text": [
      "z-critical value:\n",
      "1.6448536269514722\n",
      "Confidence interval:\n",
      "(98.14384599687658, 98.35615400312342)\n"
     ]
    }
   ],
   "source": [
    "#z test\n",
    "#z*std/sqrt(n)\n",
    "z_critical = stats.norm.ppf(q = 0.95)  # Get the z-critical value*\n",
    "\n",
    "print(\"z-critical value:\")              # Check the z-critical value\n",
    "print(z_critical)                        \n",
    "\n",
    "pop_stdev = .733  # Get the population standard deviation\n",
    "\n",
    "margin_of_error = z_critical * (pop_stdev/np.sqrt(129))\n",
    "\n",
    "confidence_interval = (98.25 - margin_of_error,\n",
    "                       98.25 + margin_of_error)  \n",
    "\n",
    "print(\"Confidence interval:\")\n",
    "print(confidence_interval)"
   ]
  },
  {
   "cell_type": "code",
   "execution_count": 68,
   "metadata": {},
   "outputs": [
    {
     "name": "stdout",
     "output_type": "stream",
     "text": [
      "1.978524491458605\n",
      "0.974999999998822\n"
     ]
    }
   ],
   "source": [
    "from scipy.stats import t\n",
    "# define probability\n",
    "p = 0.975\n",
    "deg_freedom = 129\n",
    "# retrieve value <= probability\n",
    "value = t.ppf(p, deg_freedom)\n",
    "print(value)\n",
    "# confirm with cdf\n",
    "p = t.cdf(value, deg_freedom)\n",
    "print(p)"
   ]
  },
  {
   "cell_type": "code",
   "execution_count": 69,
   "metadata": {},
   "outputs": [],
   "source": [
    "#μ = M ± t(sM)\n",
    "conf_upper = 92.25 + 1.98*np.sqrt(np.square(.733)/129)\n",
    "conf_lower = 92.25 - 1.98*np.sqrt(np.square(.733)/129)"
   ]
  },
  {
   "cell_type": "code",
   "execution_count": 70,
   "metadata": {},
   "outputs": [
    {
     "name": "stdout",
     "output_type": "stream",
     "text": [
      "92.12221663816133\n",
      "92.37778336183867\n"
     ]
    }
   ],
   "source": [
    "print(conf_lower)\n",
    "print(conf_upper)"
   ]
  },
  {
   "cell_type": "code",
   "execution_count": 107,
   "metadata": {},
   "outputs": [
    {
     "name": "stdout",
     "output_type": "stream",
     "text": [
      "98.60023853846153\n",
      "0.06484267961306325\n"
     ]
    }
   ],
   "source": [
    "#bootstrapping\n",
    "print(bs_replicates.mean())\n",
    "print(bs_replicates.std())"
   ]
  },
  {
   "cell_type": "code",
   "execution_count": 106,
   "metadata": {},
   "outputs": [
    {
     "name": "stdout",
     "output_type": "stream",
     "text": [
      "98.37192173076922\n",
      "98.44923076923075\n"
     ]
    }
   ],
   "source": [
    "print(np.percentile(np.sort(bs_replicates), .025))\n",
    "print(np.percentile(np.sort(bs_replicates), .975))"
   ]
  },
  {
   "cell_type": "code",
   "execution_count": 40,
   "metadata": {},
   "outputs": [],
   "source": [
    "#question 7\n",
    "#initialize\n",
    "temp_males = []\n",
    "temp_females = []"
   ]
  },
  {
   "cell_type": "code",
   "execution_count": 41,
   "metadata": {},
   "outputs": [],
   "source": [
    "for row in df.values:\n",
    "    if (row[1] == 'M'):\n",
    "        temp_males.append(row[0])\n",
    "    else:\n",
    "        temp_females.append(row[0])"
   ]
  },
  {
   "cell_type": "code",
   "execution_count": 42,
   "metadata": {},
   "outputs": [],
   "source": [
    "female_mean = np.mean(temp_females)\n",
    "var_female = np.var(temp_females)"
   ]
  },
  {
   "cell_type": "code",
   "execution_count": 43,
   "metadata": {},
   "outputs": [],
   "source": [
    "male_mean = np.mean(temp_males)\n",
    "var_male = np.var(temp_males)"
   ]
  },
  {
   "cell_type": "code",
   "execution_count": 44,
   "metadata": {},
   "outputs": [
    {
     "data": {
      "text/plain": [
       "-0.37151369601276324"
      ]
     },
     "execution_count": 44,
     "metadata": {},
     "output_type": "execute_result"
    }
   ],
   "source": [
    "np.random.normal()"
   ]
  },
  {
   "cell_type": "code",
   "execution_count": 45,
   "metadata": {},
   "outputs": [],
   "source": [
    "#run a Z test\n",
    "#Ho: mean of males is the same as mean of females for temperatures\n",
    "z_value = (male_mean - female_mean) "
   ]
  },
  {
   "cell_type": "code",
   "execution_count": 46,
   "metadata": {},
   "outputs": [],
   "source": [
    "male_sample = random.sample(temp_males, k =10)\n",
    "female_sample = random.sample(temp_females, k = 10)"
   ]
  },
  {
   "cell_type": "code",
   "execution_count": 47,
   "metadata": {},
   "outputs": [
    {
     "data": {
      "text/plain": [
       "[99.3, 98.3, 98.0, 97.7, 98.7, 99.0, 99.2, 98.4, 98.3, 99.0]"
      ]
     },
     "execution_count": 47,
     "metadata": {},
     "output_type": "execute_result"
    }
   ],
   "source": [
    "female_sample"
   ]
  },
  {
   "cell_type": "code",
   "execution_count": 48,
   "metadata": {},
   "outputs": [
    {
     "data": {
      "text/plain": [
       "<matplotlib.axes._subplots.AxesSubplot at 0x1536b2a56a0>"
      ]
     },
     "execution_count": 48,
     "metadata": {},
     "output_type": "execute_result"
    },
    {
     "data": {
      "image/png": "[encoded data removed]",
      "text/plain": [
       "<matplotlib.figure.Figure at 0x1536b1e66a0>"
      ]
     },
     "metadata": {},
     "output_type": "display_data"
    }
   ],
   "source": [
    "sns.distplot(male_sample, hist=True, kde=True, color = 'darkblue', \n",
    "             bins=48, hist_kws={'edgecolor':'black'},\n",
    "             kde_kws={'linewidth': 2})\n",
    "#normal dist"
   ]
  },
  {
   "cell_type": "code",
   "execution_count": 49,
   "metadata": {},
   "outputs": [
    {
     "data": {
      "text/plain": [
       "<matplotlib.axes._subplots.AxesSubplot at 0x1536b2fa400>"
      ]
     },
     "execution_count": 49,
     "metadata": {},
     "output_type": "execute_result"
    },
    {
     "data": {
      "image/png": "[encoded data removed]",
      "text/plain": [
       "<matplotlib.figure.Figure at 0x1536b10ecc0>"
      ]
     },
     "metadata": {},
     "output_type": "display_data"
    }
   ],
   "source": [
    "sns.distplot(female_sample, hist=True, kde=True, color = 'darkblue', \n",
    "             bins=48, hist_kws={'edgecolor':'black'},\n",
    "             kde_kws={'linewidth': 2})\n",
    "#normal dist"
   ]
  },
  {
   "cell_type": "code",
   "execution_count": 50,
   "metadata": {},
   "outputs": [],
   "source": [
    "samp_var_male = np.var(male_sample)\n",
    "samp_var_female = np.var(female_sample)\n",
    "samp_mean_female = np.mean(female_sample)\n",
    "samp_mean_male = np.mean(male_sample)"
   ]
  },
  {
   "cell_type": "code",
   "execution_count": 72,
   "metadata": {},
   "outputs": [],
   "source": [
    "z_sample = ((samp_mean_male - samp_mean_female)) / np.sqrt(var_male/65 + var_female/65)\n",
    "#crosscheck formula"
   ]
  },
  {
   "cell_type": "code",
   "execution_count": 74,
   "metadata": {},
   "outputs": [
    {
     "data": {
      "text/plain": [
       "-2.5482437242149696"
      ]
     },
     "execution_count": 74,
     "metadata": {},
     "output_type": "execute_result"
    }
   ],
   "source": [
    "z_sample"
   ]
  },
  {
   "cell_type": "code",
   "execution_count": 75,
   "metadata": {},
   "outputs": [],
   "source": []
  },
  {
   "cell_type": "code",
   "execution_count": 76,
   "metadata": {},
   "outputs": [
    {
     "data": {
      "text/plain": [
       "0.010826680206918918"
      ]
     },
     "execution_count": 76,
     "metadata": {},
     "output_type": "execute_result"
    }
   ],
   "source": [
    "scipy.stats.norm.sf(abs(z_sample))*2 "
   ]
  },
  {
   "cell_type": "markdown",
   "metadata": {},
   "source": [
    "First the sample was divided into male and female body temperature, then a random sample of 10 was taken from both male and female samples. The normality of this list was verified and then a Z test was performed on the sample mean and a two sample test was conducted with the null hypothesis being that male mean is equal to female mean. The p value obtained was less than the alpha set to be .05 therefore it is statistically significant and we can reject the null hypothesis. "
   ]
  },
  {
   "cell_type": "code",
   "execution_count": null,
   "metadata": {},
   "outputs": [],
   "source": []
  }
 ],
 "metadata": {
  "kernelspec": {
   "display_name": "Python 3",
   "language": "python",
   "name": "python3"
  },
  "language_info": {
   "codemirror_mode": {
    "name": "ipython",
    "version": 3
   },
   "file_extension": ".py",
   "mimetype": "text/x-python",
   "name": "python",
   "nbconvert_exporter": "python",
   "pygments_lexer": "ipython3",
   "version": "3.6.4"
  }
 },
 "nbformat": 4,
 "nbformat_minor": 2
}
