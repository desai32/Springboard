{
 "cells": [
  {
   "cell_type": "markdown",
   "metadata": {},
   "source": [
    "Data Wrangling and Data Story in Python for the Capstone Project 1 \n",
    "Data Set - Mental Health in Tech Survey\n",
    "Name - Nilay Desai"
   ]
  },
  {
   "cell_type": "code",
   "execution_count": 2,
   "metadata": {},
   "outputs": [],
   "source": [
    "#import the modules \n",
    "import csv\n",
    "import pandas as pd\n",
    "import numpy as np\n",
    "from random import randint\n",
    "from sklearn import preprocessing\n",
    "import matplotlib.pyplot as plt\n",
    "import seaborn as sns\n",
    "import collections\n",
    "from array import *\n",
    "from scipy import stats\n",
    "from scipy.stats import randint"
   ]
  },
  {
   "cell_type": "code",
   "execution_count": 3,
   "metadata": {},
   "outputs": [],
   "source": [
    "#create a dataframe to store the data in\n",
    "#let the system know a column is a date in the read_csv function\n",
    "df = pd.read_csv('Data/survey.csv')"
   ]
  },
  {
   "cell_type": "code",
   "execution_count": 4,
   "metadata": {},
   "outputs": [
    {
     "data": {
      "text/html": [
       "<div>\n",
       "<style scoped>\n",
       "    .dataframe tbody tr th:only-of-type {\n",
       "        vertical-align: middle;\n",
       "    }\n",
       "\n",
       "    .dataframe tbody tr th {\n",
       "        vertical-align: top;\n",
       "    }\n",
       "\n",
       "    .dataframe thead th {\n",
       "        text-align: right;\n",
       "    }\n",
       "</style>\n",
       "<table border=\"1\" class=\"dataframe\">\n",
       "  <thead>\n",
       "    <tr style=\"text-align: right;\">\n",
       "      <th></th>\n",
       "      <th>Timestamp</th>\n",
       "      <th>Age</th>\n",
       "      <th>Gender</th>\n",
       "      <th>Country</th>\n",
       "      <th>state</th>\n",
       "      <th>self_employed</th>\n",
       "      <th>family_history</th>\n",
       "      <th>treatment</th>\n",
       "      <th>work_interfere</th>\n",
       "      <th>no_employees</th>\n",
       "      <th>...</th>\n",
       "      <th>leave</th>\n",
       "      <th>mental_health_consequence</th>\n",
       "      <th>phys_health_consequence</th>\n",
       "      <th>coworkers</th>\n",
       "      <th>supervisor</th>\n",
       "      <th>mental_health_interview</th>\n",
       "      <th>phys_health_interview</th>\n",
       "      <th>mental_vs_physical</th>\n",
       "      <th>obs_consequence</th>\n",
       "      <th>comments</th>\n",
       "    </tr>\n",
       "  </thead>\n",
       "  <tbody>\n",
       "    <tr>\n",
       "      <th>0</th>\n",
       "      <td>2014-08-27 11:29:31</td>\n",
       "      <td>37</td>\n",
       "      <td>Female</td>\n",
       "      <td>United States</td>\n",
       "      <td>IL</td>\n",
       "      <td>NaN</td>\n",
       "      <td>No</td>\n",
       "      <td>Yes</td>\n",
       "      <td>Often</td>\n",
       "      <td>6-25</td>\n",
       "      <td>...</td>\n",
       "      <td>Somewhat easy</td>\n",
       "      <td>No</td>\n",
       "      <td>No</td>\n",
       "      <td>Some of them</td>\n",
       "      <td>Yes</td>\n",
       "      <td>No</td>\n",
       "      <td>Maybe</td>\n",
       "      <td>Yes</td>\n",
       "      <td>No</td>\n",
       "      <td>NaN</td>\n",
       "    </tr>\n",
       "    <tr>\n",
       "      <th>1</th>\n",
       "      <td>2014-08-27 11:29:37</td>\n",
       "      <td>44</td>\n",
       "      <td>M</td>\n",
       "      <td>United States</td>\n",
       "      <td>IN</td>\n",
       "      <td>NaN</td>\n",
       "      <td>No</td>\n",
       "      <td>No</td>\n",
       "      <td>Rarely</td>\n",
       "      <td>More than 1000</td>\n",
       "      <td>...</td>\n",
       "      <td>Don't know</td>\n",
       "      <td>Maybe</td>\n",
       "      <td>No</td>\n",
       "      <td>No</td>\n",
       "      <td>No</td>\n",
       "      <td>No</td>\n",
       "      <td>No</td>\n",
       "      <td>Don't know</td>\n",
       "      <td>No</td>\n",
       "      <td>NaN</td>\n",
       "    </tr>\n",
       "    <tr>\n",
       "      <th>2</th>\n",
       "      <td>2014-08-27 11:29:44</td>\n",
       "      <td>32</td>\n",
       "      <td>Male</td>\n",
       "      <td>Canada</td>\n",
       "      <td>NaN</td>\n",
       "      <td>NaN</td>\n",
       "      <td>No</td>\n",
       "      <td>No</td>\n",
       "      <td>Rarely</td>\n",
       "      <td>6-25</td>\n",
       "      <td>...</td>\n",
       "      <td>Somewhat difficult</td>\n",
       "      <td>No</td>\n",
       "      <td>No</td>\n",
       "      <td>Yes</td>\n",
       "      <td>Yes</td>\n",
       "      <td>Yes</td>\n",
       "      <td>Yes</td>\n",
       "      <td>No</td>\n",
       "      <td>No</td>\n",
       "      <td>NaN</td>\n",
       "    </tr>\n",
       "    <tr>\n",
       "      <th>3</th>\n",
       "      <td>2014-08-27 11:29:46</td>\n",
       "      <td>31</td>\n",
       "      <td>Male</td>\n",
       "      <td>United Kingdom</td>\n",
       "      <td>NaN</td>\n",
       "      <td>NaN</td>\n",
       "      <td>Yes</td>\n",
       "      <td>Yes</td>\n",
       "      <td>Often</td>\n",
       "      <td>26-100</td>\n",
       "      <td>...</td>\n",
       "      <td>Somewhat difficult</td>\n",
       "      <td>Yes</td>\n",
       "      <td>Yes</td>\n",
       "      <td>Some of them</td>\n",
       "      <td>No</td>\n",
       "      <td>Maybe</td>\n",
       "      <td>Maybe</td>\n",
       "      <td>No</td>\n",
       "      <td>Yes</td>\n",
       "      <td>NaN</td>\n",
       "    </tr>\n",
       "    <tr>\n",
       "      <th>4</th>\n",
       "      <td>2014-08-27 11:30:22</td>\n",
       "      <td>31</td>\n",
       "      <td>Male</td>\n",
       "      <td>United States</td>\n",
       "      <td>TX</td>\n",
       "      <td>NaN</td>\n",
       "      <td>No</td>\n",
       "      <td>No</td>\n",
       "      <td>Never</td>\n",
       "      <td>100-500</td>\n",
       "      <td>...</td>\n",
       "      <td>Don't know</td>\n",
       "      <td>No</td>\n",
       "      <td>No</td>\n",
       "      <td>Some of them</td>\n",
       "      <td>Yes</td>\n",
       "      <td>Yes</td>\n",
       "      <td>Yes</td>\n",
       "      <td>Don't know</td>\n",
       "      <td>No</td>\n",
       "      <td>NaN</td>\n",
       "    </tr>\n",
       "  </tbody>\n",
       "</table>\n",
       "<p>5 rows × 27 columns</p>\n",
       "</div>"
      ],
      "text/plain": [
       "             Timestamp  Age  Gender         Country state self_employed  \\\n",
       "0  2014-08-27 11:29:31   37  Female   United States    IL           NaN   \n",
       "1  2014-08-27 11:29:37   44       M   United States    IN           NaN   \n",
       "2  2014-08-27 11:29:44   32    Male          Canada   NaN           NaN   \n",
       "3  2014-08-27 11:29:46   31    Male  United Kingdom   NaN           NaN   \n",
       "4  2014-08-27 11:30:22   31    Male   United States    TX           NaN   \n",
       "\n",
       "  family_history treatment work_interfere    no_employees   ...     \\\n",
       "0             No       Yes          Often            6-25   ...      \n",
       "1             No        No         Rarely  More than 1000   ...      \n",
       "2             No        No         Rarely            6-25   ...      \n",
       "3            Yes       Yes          Often          26-100   ...      \n",
       "4             No        No          Never         100-500   ...      \n",
       "\n",
       "                leave mental_health_consequence phys_health_consequence  \\\n",
       "0       Somewhat easy                        No                      No   \n",
       "1          Don't know                     Maybe                      No   \n",
       "2  Somewhat difficult                        No                      No   \n",
       "3  Somewhat difficult                       Yes                     Yes   \n",
       "4          Don't know                        No                      No   \n",
       "\n",
       "      coworkers supervisor mental_health_interview phys_health_interview  \\\n",
       "0  Some of them        Yes                      No                 Maybe   \n",
       "1            No         No                      No                    No   \n",
       "2           Yes        Yes                     Yes                   Yes   \n",
       "3  Some of them         No                   Maybe                 Maybe   \n",
       "4  Some of them        Yes                     Yes                   Yes   \n",
       "\n",
       "  mental_vs_physical obs_consequence comments  \n",
       "0                Yes              No      NaN  \n",
       "1         Don't know              No      NaN  \n",
       "2                 No              No      NaN  \n",
       "3                 No             Yes      NaN  \n",
       "4         Don't know              No      NaN  \n",
       "\n",
       "[5 rows x 27 columns]"
      ]
     },
     "execution_count": 4,
     "metadata": {},
     "output_type": "execute_result"
    }
   ],
   "source": [
    "df.head()"
   ]
  },
  {
   "cell_type": "code",
   "execution_count": 5,
   "metadata": {},
   "outputs": [
    {
     "name": "stdout",
     "output_type": "stream",
     "text": [
      "<class 'pandas.core.frame.DataFrame'>\n",
      "RangeIndex: 1259 entries, 0 to 1258\n",
      "Data columns (total 27 columns):\n",
      "Timestamp                    1259 non-null object\n",
      "Age                          1259 non-null int64\n",
      "Gender                       1259 non-null object\n",
      "Country                      1259 non-null object\n",
      "state                        744 non-null object\n",
      "self_employed                1241 non-null object\n",
      "family_history               1259 non-null object\n",
      "treatment                    1259 non-null object\n",
      "work_interfere               995 non-null object\n",
      "no_employees                 1259 non-null object\n",
      "remote_work                  1259 non-null object\n",
      "tech_company                 1259 non-null object\n",
      "benefits                     1259 non-null object\n",
      "care_options                 1259 non-null object\n",
      "wellness_program             1259 non-null object\n",
      "seek_help                    1259 non-null object\n",
      "anonymity                    1259 non-null object\n",
      "leave                        1259 non-null object\n",
      "mental_health_consequence    1259 non-null object\n",
      "phys_health_consequence      1259 non-null object\n",
      "coworkers                    1259 non-null object\n",
      "supervisor                   1259 non-null object\n",
      "mental_health_interview      1259 non-null object\n",
      "phys_health_interview        1259 non-null object\n",
      "mental_vs_physical           1259 non-null object\n",
      "obs_consequence              1259 non-null object\n",
      "comments                     164 non-null object\n",
      "dtypes: int64(1), object(26)\n",
      "memory usage: 265.6+ KB\n"
     ]
    }
   ],
   "source": [
    "df.info()"
   ]
  },
  {
   "cell_type": "code",
   "execution_count": 6,
   "metadata": {},
   "outputs": [
    {
     "data": {
      "text/plain": [
       "pandas.core.series.Series"
      ]
     },
     "execution_count": 6,
     "metadata": {},
     "output_type": "execute_result"
    }
   ],
   "source": [
    "#convert datetime to datetime64 type\n",
    "#look into converting to \n",
    "df['Timestamp'] = df['Timestamp'].astype('datetime64[ns]')\n",
    "type(df['Gender'])"
   ]
  },
  {
   "cell_type": "code",
   "execution_count": 7,
   "metadata": {},
   "outputs": [],
   "source": [
    "_ = df['Timestamp']"
   ]
  },
  {
   "cell_type": "code",
   "execution_count": 8,
   "metadata": {},
   "outputs": [],
   "source": [
    "#figure out the distribution first and then determine the mode or random\n",
    "df.Gender.replace({'Female': 1, 'female': 1, 'f': 1, 'F': 1, 'Male': 0, 'male': 0, 'm': 0, 'M': 0, r'[a-z]+':1}, regex=True, inplace=True)"
   ]
  },
  {
   "cell_type": "code",
   "execution_count": 9,
   "metadata": {},
   "outputs": [],
   "source": [
    "#create a dictionary to see the kind of values in Country columumns\n",
    "Countries = {}\n",
    "for country in df['Country']:\n",
    "    if country in Countries:\n",
    "        Countries[country] += 1\n",
    "    else:\n",
    "        Countries[country] = 1"
   ]
  },
  {
   "cell_type": "code",
   "execution_count": 10,
   "metadata": {},
   "outputs": [],
   "source": [
    "#Countries\n",
    "#regions"
   ]
  },
  {
   "cell_type": "code",
   "execution_count": 11,
   "metadata": {},
   "outputs": [],
   "source": [
    "#create a dictionary to see the kind of values in leaves columumns\n",
    "leave_difficulty = {}\n",
    "for leave in df['leave']:\n",
    "    if leave in leave_difficulty:\n",
    "        leave_difficulty[leave] += 1\n",
    "    else:\n",
    "        leave_difficulty[leave] = 1"
   ]
  },
  {
   "cell_type": "code",
   "execution_count": 12,
   "metadata": {},
   "outputs": [
    {
     "data": {
      "text/plain": [
       "{\"Don't know\": 563,\n",
       " 'Somewhat difficult': 126,\n",
       " 'Somewhat easy': 266,\n",
       " 'Very difficult': 98,\n",
       " 'Very easy': 206}"
      ]
     },
     "execution_count": 12,
     "metadata": {},
     "output_type": "execute_result"
    }
   ],
   "source": [
    "leave_difficulty"
   ]
  },
  {
   "cell_type": "code",
   "execution_count": 13,
   "metadata": {},
   "outputs": [],
   "source": [
    "#convert the list into categorical data\n",
    "for leave in df['leave']:\n",
    "    if leave[0] == 'D':\n",
    "        leave = 5\n",
    "    elif leave == 'Somewhat difficult':\n",
    "        leave = 2\n",
    "    elif leave == 'Somewhat easy':\n",
    "        leave = 1\n",
    "    elif leave == 'Very difficult':\n",
    "        leave = 3\n",
    "    elif leave == 'Very easy':\n",
    "        leave = 0"
   ]
  },
  {
   "cell_type": "code",
   "execution_count": 14,
   "metadata": {},
   "outputs": [],
   "source": [
    "#df.leave.head()\n",
    "#change the order "
   ]
  },
  {
   "cell_type": "code",
   "execution_count": 15,
   "metadata": {},
   "outputs": [],
   "source": [
    "df.leave.replace({'Somewhat difficult': 2, 'Somewhat easy': 1, 'Very difficult': 3, 'Very easy': 0, 'Don\\'t know': 4}, inplace=True)"
   ]
  },
  {
   "cell_type": "code",
   "execution_count": 16,
   "metadata": {},
   "outputs": [],
   "source": [
    "#df.leave\n",
    "#sklearn.preprocessing label encoding"
   ]
  },
  {
   "cell_type": "code",
   "execution_count": 17,
   "metadata": {},
   "outputs": [],
   "source": [
    "#create a dictionary to see the kind of values in number of employees columumns\n",
    "no_employees = {}\n",
    "for num in df['no_employees']:\n",
    "    if num in no_employees:\n",
    "        no_employees[num] += 1\n",
    "    else:\n",
    "        no_employees[num] = 1"
   ]
  },
  {
   "cell_type": "code",
   "execution_count": 18,
   "metadata": {},
   "outputs": [
    {
     "data": {
      "text/plain": [
       "{'1-5': 162,\n",
       " '100-500': 176,\n",
       " '26-100': 289,\n",
       " '500-1000': 60,\n",
       " '6-25': 290,\n",
       " 'More than 1000': 282}"
      ]
     },
     "execution_count": 18,
     "metadata": {},
     "output_type": "execute_result"
    }
   ],
   "source": [
    "no_employees\n",
    "#keep the order ascending"
   ]
  },
  {
   "cell_type": "code",
   "execution_count": 19,
   "metadata": {},
   "outputs": [],
   "source": [
    "df.no_employees.replace({'1-5': 0, '100-500': 3, '26-100': 2, '500-1000': 4, '6-25': 1, 'More than 1000': 5}, inplace=True)"
   ]
  },
  {
   "cell_type": "code",
   "execution_count": 20,
   "metadata": {},
   "outputs": [],
   "source": [
    "#df.seek_help\n",
    "#classify 3 things - no missing in target variables \n",
    "#multi class classification "
   ]
  },
  {
   "cell_type": "code",
   "execution_count": 21,
   "metadata": {},
   "outputs": [],
   "source": [
    "#countries can be used but states are tough HIGH CARDINALITY\n",
    "#turn them into numbers (label encoding) \n",
    "#"
   ]
  },
  {
   "cell_type": "code",
   "execution_count": 22,
   "metadata": {},
   "outputs": [],
   "source": [
    "#create a dictionary to see the kind of values in family history columumns\n",
    "family_history = {}\n",
    "for history in df['family_history']:\n",
    "    if history in family_history:\n",
    "        family_history[history] += 1\n",
    "    else:\n",
    "        family_history[history] = 1"
   ]
  },
  {
   "cell_type": "code",
   "execution_count": 23,
   "metadata": {},
   "outputs": [
    {
     "data": {
      "text/plain": [
       "{'No': 767, 'Yes': 492}"
      ]
     },
     "execution_count": 23,
     "metadata": {},
     "output_type": "execute_result"
    }
   ],
   "source": [
    "family_history"
   ]
  },
  {
   "cell_type": "code",
   "execution_count": 24,
   "metadata": {},
   "outputs": [],
   "source": [
    "# 1. INSTANTIATE\n",
    "# encode labels with value between 0 and n_classes-1.\n",
    "le = preprocessing.LabelEncoder()"
   ]
  },
  {
   "cell_type": "code",
   "execution_count": 25,
   "metadata": {},
   "outputs": [
    {
     "data": {
      "text/plain": [
       "(1259, 2)"
      ]
     },
     "execution_count": 25,
     "metadata": {},
     "output_type": "execute_result"
    }
   ],
   "source": [
    "df[['family_history', 'treatment']].shape"
   ]
  },
  {
   "cell_type": "code",
   "execution_count": 26,
   "metadata": {},
   "outputs": [],
   "source": [
    "# 2/3. FIT AND TRANSFORM\n",
    "# use df.apply() to apply le.fit_transform to all columns without N/A\n",
    "df[['family_history', 'treatment', 'remote_work', 'tech_company']] = df[['family_history', 'treatment', 'remote_work', 'tech_company']].apply(le.fit_transform)"
   ]
  },
  {
   "cell_type": "code",
   "execution_count": 27,
   "metadata": {},
   "outputs": [],
   "source": [
    "#deleting the column comments\n",
    "df = df.drop(columns='comments')"
   ]
  },
  {
   "cell_type": "code",
   "execution_count": 28,
   "metadata": {},
   "outputs": [],
   "source": [
    "#df.head()"
   ]
  },
  {
   "cell_type": "code",
   "execution_count": 29,
   "metadata": {},
   "outputs": [],
   "source": [
    "#create a dictionary to see the kind of values in self_employed columumns\n",
    "self_employed = {}\n",
    "for option in df['self_employed']:\n",
    "    if option in self_employed:\n",
    "        self_employed[option] += 1\n",
    "    else:\n",
    "        self_employed[option] = 1"
   ]
  },
  {
   "cell_type": "code",
   "execution_count": 30,
   "metadata": {},
   "outputs": [
    {
     "data": {
      "text/plain": [
       "{'No': 1095, 'Yes': 146, nan: 18}"
      ]
     },
     "execution_count": 30,
     "metadata": {},
     "output_type": "execute_result"
    }
   ],
   "source": [
    "self_employed"
   ]
  },
  {
   "cell_type": "code",
   "execution_count": 31,
   "metadata": {},
   "outputs": [],
   "source": [
    "#create a dictionary to see the kind of values in work_interfere columumns\n",
    "work_interfere = {}\n",
    "for work in df['work_interfere']:\n",
    "    if work in work_interfere:\n",
    "        work_interfere[work] += 1\n",
    "    else:\n",
    "        work_interfere[work] = 1"
   ]
  },
  {
   "cell_type": "code",
   "execution_count": 32,
   "metadata": {},
   "outputs": [
    {
     "data": {
      "text/plain": [
       "{'Never': 213, 'Often': 144, 'Rarely': 173, 'Sometimes': 465, nan: 264}"
      ]
     },
     "execution_count": 32,
     "metadata": {},
     "output_type": "execute_result"
    }
   ],
   "source": [
    "work_interfere\n",
    "#look into this whether its missing or just another category"
   ]
  },
  {
   "cell_type": "code",
   "execution_count": 33,
   "metadata": {},
   "outputs": [],
   "source": [
    "#create a dictionary to see the kind of values in benefits columumns\n",
    "benefits = {}\n",
    "for benefit in df['benefits']:\n",
    "    if benefit in benefits:\n",
    "        benefits[benefit] += 1\n",
    "    else:\n",
    "        benefits[benefit] = 1"
   ]
  },
  {
   "cell_type": "code",
   "execution_count": 34,
   "metadata": {},
   "outputs": [
    {
     "data": {
      "text/plain": [
       "{\"Don't know\": 408, 'No': 374, 'Yes': 477}"
      ]
     },
     "execution_count": 34,
     "metadata": {},
     "output_type": "execute_result"
    }
   ],
   "source": [
    "benefits"
   ]
  },
  {
   "cell_type": "code",
   "execution_count": 35,
   "metadata": {},
   "outputs": [],
   "source": [
    "#create a dictionary to see the kind of values in care_options columumns\n",
    "care_options = {}\n",
    "for care in df['care_options']:\n",
    "    if care in care_options:\n",
    "        care_options[care] += 1\n",
    "    else:\n",
    "        care_options[care] = 1"
   ]
  },
  {
   "cell_type": "code",
   "execution_count": 36,
   "metadata": {},
   "outputs": [
    {
     "data": {
      "text/plain": [
       "{'No': 501, 'Not sure': 314, 'Yes': 444}"
      ]
     },
     "execution_count": 36,
     "metadata": {},
     "output_type": "execute_result"
    }
   ],
   "source": [
    "care_options"
   ]
  },
  {
   "cell_type": "code",
   "execution_count": 37,
   "metadata": {},
   "outputs": [],
   "source": [
    "#create a dictionary to see the kind of values in wellness_program columumns\n",
    "wellness_program = {}\n",
    "for program in df['wellness_program']:\n",
    "    if program in wellness_program:\n",
    "        wellness_program[program] += 1\n",
    "    else:\n",
    "        wellness_program[program] = 1"
   ]
  },
  {
   "cell_type": "code",
   "execution_count": 38,
   "metadata": {},
   "outputs": [
    {
     "data": {
      "text/plain": [
       "{\"Don't know\": 188, 'No': 842, 'Yes': 229}"
      ]
     },
     "execution_count": 38,
     "metadata": {},
     "output_type": "execute_result"
    }
   ],
   "source": [
    "wellness_program"
   ]
  },
  {
   "cell_type": "code",
   "execution_count": 39,
   "metadata": {},
   "outputs": [],
   "source": [
    "#create a dictionary to see the kind of values in seek_help columumns\n",
    "seek_help = {}\n",
    "for options in df['seek_help']:\n",
    "    if options in seek_help:\n",
    "        seek_help[options] += 1\n",
    "    else:\n",
    "        seek_help[options] = 1"
   ]
  },
  {
   "cell_type": "code",
   "execution_count": 40,
   "metadata": {},
   "outputs": [
    {
     "data": {
      "text/plain": [
       "{\"Don't know\": 363, 'No': 646, 'Yes': 250}"
      ]
     },
     "execution_count": 40,
     "metadata": {},
     "output_type": "execute_result"
    }
   ],
   "source": [
    "seek_help"
   ]
  },
  {
   "cell_type": "code",
   "execution_count": 41,
   "metadata": {},
   "outputs": [],
   "source": [
    "#create a dictionary to see the kind of values in anonymity columumns\n",
    "anonymity = {}\n",
    "for options in df['anonymity']:\n",
    "    if options in anonymity:\n",
    "        anonymity[options] += 1\n",
    "    else:\n",
    "        anonymity[options] = 1"
   ]
  },
  {
   "cell_type": "code",
   "execution_count": 42,
   "metadata": {},
   "outputs": [
    {
     "data": {
      "text/plain": [
       "{\"Don't know\": 819, 'No': 65, 'Yes': 375}"
      ]
     },
     "execution_count": 42,
     "metadata": {},
     "output_type": "execute_result"
    }
   ],
   "source": [
    "anonymity"
   ]
  },
  {
   "cell_type": "code",
   "execution_count": 43,
   "metadata": {},
   "outputs": [],
   "source": [
    "#create a dictionary to see the kind of values in mental_health_consequence columumns\n",
    "mental_health_consequence = {}\n",
    "for options in df['mental_health_consequence']:\n",
    "    if options in mental_health_consequence:\n",
    "        mental_health_consequence[options] += 1\n",
    "    else:\n",
    "        mental_health_consequence[options] = 1"
   ]
  },
  {
   "cell_type": "code",
   "execution_count": 44,
   "metadata": {},
   "outputs": [
    {
     "data": {
      "text/plain": [
       "{'Maybe': 477, 'No': 490, 'Yes': 292}"
      ]
     },
     "execution_count": 44,
     "metadata": {},
     "output_type": "execute_result"
    }
   ],
   "source": [
    "mental_health_consequence"
   ]
  },
  {
   "cell_type": "code",
   "execution_count": 45,
   "metadata": {},
   "outputs": [],
   "source": [
    "#create a dictionary to see the kind of values in phys_health_consequence columumns\n",
    "phys_health_consequence = {}\n",
    "for options in df['phys_health_consequence']:\n",
    "    if options in phys_health_consequence:\n",
    "        phys_health_consequence[options] += 1\n",
    "    else:\n",
    "        phys_health_consequence[options] = 1"
   ]
  },
  {
   "cell_type": "code",
   "execution_count": 46,
   "metadata": {},
   "outputs": [
    {
     "data": {
      "text/plain": [
       "{'Maybe': 273, 'No': 925, 'Yes': 61}"
      ]
     },
     "execution_count": 46,
     "metadata": {},
     "output_type": "execute_result"
    }
   ],
   "source": [
    "phys_health_consequence"
   ]
  },
  {
   "cell_type": "code",
   "execution_count": 47,
   "metadata": {},
   "outputs": [],
   "source": [
    "#create a dictionary to see the kind of values in coworkers columumns\n",
    "coworkers = {}\n",
    "for options in df['coworkers']:\n",
    "    if options in coworkers:\n",
    "        coworkers[options] += 1\n",
    "    else:\n",
    "        coworkers[options] = 1"
   ]
  },
  {
   "cell_type": "code",
   "execution_count": 48,
   "metadata": {},
   "outputs": [
    {
     "data": {
      "text/plain": [
       "{'No': 260, 'Some of them': 774, 'Yes': 225}"
      ]
     },
     "execution_count": 48,
     "metadata": {},
     "output_type": "execute_result"
    }
   ],
   "source": [
    "coworkers"
   ]
  },
  {
   "cell_type": "code",
   "execution_count": 49,
   "metadata": {},
   "outputs": [],
   "source": [
    "#create a dictionary to see the kind of values in supervisor columumns\n",
    "supervisor = {}\n",
    "for options in df['supervisor']:\n",
    "    if options in supervisor:\n",
    "        supervisor[options] += 1\n",
    "    else:\n",
    "        supervisor[options] = 1"
   ]
  },
  {
   "cell_type": "code",
   "execution_count": 50,
   "metadata": {},
   "outputs": [
    {
     "data": {
      "text/plain": [
       "{'No': 393, 'Some of them': 350, 'Yes': 516}"
      ]
     },
     "execution_count": 50,
     "metadata": {},
     "output_type": "execute_result"
    }
   ],
   "source": [
    "supervisor"
   ]
  },
  {
   "cell_type": "code",
   "execution_count": 51,
   "metadata": {},
   "outputs": [],
   "source": [
    "#create a dictionary to see the kind of values in mental_health_interview columumns\n",
    "mental_health_interview = {}\n",
    "for options in df['mental_health_interview']:\n",
    "    if options in mental_health_interview:\n",
    "        mental_health_interview[options] += 1\n",
    "    else:\n",
    "        mental_health_interview[options] = 1"
   ]
  },
  {
   "cell_type": "code",
   "execution_count": 52,
   "metadata": {},
   "outputs": [
    {
     "data": {
      "text/plain": [
       "{'Maybe': 207, 'No': 1008, 'Yes': 44}"
      ]
     },
     "execution_count": 52,
     "metadata": {},
     "output_type": "execute_result"
    }
   ],
   "source": [
    "mental_health_interview"
   ]
  },
  {
   "cell_type": "code",
   "execution_count": 53,
   "metadata": {},
   "outputs": [],
   "source": [
    "#create a dictionary to see the kind of values in phys_health_interview columumns\n",
    "phys_health_interview = {}\n",
    "for options in df['phys_health_interview']:\n",
    "    if options in phys_health_interview:\n",
    "        phys_health_interview[options] += 1\n",
    "    else:\n",
    "        phys_health_interview[options] = 1"
   ]
  },
  {
   "cell_type": "code",
   "execution_count": 54,
   "metadata": {},
   "outputs": [
    {
     "data": {
      "text/plain": [
       "{'Maybe': 557, 'No': 500, 'Yes': 202}"
      ]
     },
     "execution_count": 54,
     "metadata": {},
     "output_type": "execute_result"
    }
   ],
   "source": [
    "phys_health_interview"
   ]
  },
  {
   "cell_type": "code",
   "execution_count": 55,
   "metadata": {},
   "outputs": [],
   "source": [
    "#create a dictionary to see the kind of values in mental_vs_physical columumns\n",
    "mental_vs_physical = {}\n",
    "for options in df['mental_vs_physical']:\n",
    "    if options in mental_vs_physical:\n",
    "        mental_vs_physical[options] += 1\n",
    "    else:\n",
    "        mental_vs_physical[options] = 1"
   ]
  },
  {
   "cell_type": "code",
   "execution_count": 56,
   "metadata": {},
   "outputs": [
    {
     "data": {
      "text/plain": [
       "{\"Don't know\": 576, 'No': 340, 'Yes': 343}"
      ]
     },
     "execution_count": 56,
     "metadata": {},
     "output_type": "execute_result"
    }
   ],
   "source": [
    "mental_vs_physical"
   ]
  },
  {
   "cell_type": "code",
   "execution_count": 57,
   "metadata": {},
   "outputs": [],
   "source": [
    "#create a dictionary to see the kind of values in obs_consequences columumns\n",
    "obs_consequence = {}\n",
    "for options in df['obs_consequence']:\n",
    "    if options in obs_consequence:\n",
    "        obs_consequence[options] += 1\n",
    "    else:\n",
    "        obs_consequence[options] = 1"
   ]
  },
  {
   "cell_type": "code",
   "execution_count": 58,
   "metadata": {},
   "outputs": [
    {
     "data": {
      "text/plain": [
       "{'No': 1075, 'Yes': 184}"
      ]
     },
     "execution_count": 58,
     "metadata": {},
     "output_type": "execute_result"
    }
   ],
   "source": [
    "obs_consequence"
   ]
  },
  {
   "cell_type": "code",
   "execution_count": 59,
   "metadata": {},
   "outputs": [],
   "source": [
    "# 2. INSTANTIATE\n",
    "# encode labels with value between 0 and n_classes-1.\n",
    "le_2 = preprocessing.LabelEncoder()"
   ]
  },
  {
   "cell_type": "code",
   "execution_count": 60,
   "metadata": {},
   "outputs": [],
   "source": [
    "# 2/3. FIT AND TRANSFORM\n",
    "# use df.apply() to apply le.fit_transform to all columns without N/A\n"
   ]
  },
  {
   "cell_type": "code",
   "execution_count": 61,
   "metadata": {},
   "outputs": [],
   "source": [
    "df[['obs_consequence', 'mental_vs_physical']] = df[['obs_consequence', 'mental_vs_physical']].apply(le_2.fit_transform)"
   ]
  },
  {
   "cell_type": "code",
   "execution_count": 62,
   "metadata": {},
   "outputs": [],
   "source": [
    "df[['phys_health_interview', 'mental_health_interview']] = df[['phys_health_interview', 'mental_health_interview']].apply(le_2.fit_transform)"
   ]
  },
  {
   "cell_type": "code",
   "execution_count": 63,
   "metadata": {},
   "outputs": [],
   "source": [
    "df[['coworkers', 'supervisor', 'anonymity']] = df[['coworkers', 'supervisor', 'anonymity']].apply(le_2.fit_transform)"
   ]
  },
  {
   "cell_type": "code",
   "execution_count": 64,
   "metadata": {},
   "outputs": [],
   "source": [
    "df[['phys_health_consequence', 'mental_health_consequence', 'seek_help', 'benefits', 'care_options', 'wellness_program']] = df[['phys_health_consequence', 'mental_health_consequence', 'seek_help', 'benefits', 'care_options', 'wellness_program']].apply(le_2.fit_transform)"
   ]
  },
  {
   "cell_type": "code",
   "execution_count": 65,
   "metadata": {},
   "outputs": [],
   "source": [
    "#taking care of NANs for self employed. assuming \"No\" for all NAs\n",
    "df['self_employed'].fillna(value='No', inplace=True)"
   ]
  },
  {
   "cell_type": "code",
   "execution_count": 66,
   "metadata": {},
   "outputs": [],
   "source": [
    "df[['self_employed']] = df[['self_employed']].apply(le_2.fit_transform)"
   ]
  },
  {
   "cell_type": "code",
   "execution_count": 67,
   "metadata": {},
   "outputs": [],
   "source": [
    "df['work_interfere'].fillna(value='Don\\'t know', inplace=True)"
   ]
  },
  {
   "cell_type": "code",
   "execution_count": 68,
   "metadata": {},
   "outputs": [],
   "source": [
    "df[['work_interfere']] = df[['work_interfere']].apply(le_2.fit_transform)"
   ]
  },
  {
   "cell_type": "code",
   "execution_count": 69,
   "metadata": {},
   "outputs": [],
   "source": [
    "#deleting the state comments\n",
    "df = df.drop(columns='state')"
   ]
  },
  {
   "cell_type": "code",
   "execution_count": 70,
   "metadata": {},
   "outputs": [],
   "source": [
    "#df.head()"
   ]
  },
  {
   "cell_type": "code",
   "execution_count": 71,
   "metadata": {},
   "outputs": [],
   "source": [
    "#df['Country'].value_counts().plot(kind='box')\n",
    "#directly label encoding\n",
    "#another approach top 10 and then \n",
    "#frequencies\n",
    "#top 10 states \n",
    "#US canada Europe"
   ]
  },
  {
   "cell_type": "code",
   "execution_count": 72,
   "metadata": {},
   "outputs": [],
   "source": [
    "c = {}\n",
    "for options in df['obs_consequence']:\n",
    "    if options in obs_consequence:\n",
    "        obs_consequence[options] += 1\n",
    "    else:\n",
    "        obs_consequence[options] = 1"
   ]
  },
  {
   "cell_type": "code",
   "execution_count": 73,
   "metadata": {},
   "outputs": [],
   "source": [
    "df[['Country']] = df[['Country']].apply(le_2.fit_transform)"
   ]
  },
  {
   "cell_type": "code",
   "execution_count": 74,
   "metadata": {},
   "outputs": [],
   "source": [
    "#complete missing age \n",
    "df['Age'].fillna(df['Age'].median(), inplace = True)\n",
    "\n",
    "# Fill with media() values < 18 and > 120\n",
    "s = pd.Series(df['Age'])\n",
    "s[s<18] = df['Age'].median()\n",
    "df['Age'] = s\n",
    "s = pd.Series(df['Age'])\n",
    "s[s>120] = df['Age'].median()\n",
    "df['Age'] = s\n",
    "\n",
    "#Ranges of Age\n",
    "df['age_range'] = pd.cut(df['Age'], [0,20,30,65,100], labels=[\"0-20\", \"21-30\", \"31-65\", \"66-100\"], include_lowest=True)"
   ]
  },
  {
   "cell_type": "code",
   "execution_count": 75,
   "metadata": {},
   "outputs": [],
   "source": [
    "#df.head()"
   ]
  },
  {
   "cell_type": "code",
   "execution_count": 76,
   "metadata": {},
   "outputs": [],
   "source": [
    "#to print the unique values in a data series\n",
    "#print(df['work_interfere'].unique())"
   ]
  },
  {
   "cell_type": "code",
   "execution_count": 77,
   "metadata": {},
   "outputs": [],
   "source": [
    "df[['age_range']] = df[['age_range']].apply(le_2.fit_transform)"
   ]
  },
  {
   "cell_type": "code",
   "execution_count": 78,
   "metadata": {},
   "outputs": [
    {
     "name": "stdout",
     "output_type": "stream",
     "text": [
      "                           Total  Percent\n",
      "age_range                      0      0.0\n",
      "obs_consequence                0      0.0\n",
      "Age                            0      0.0\n",
      "Gender                         0      0.0\n",
      "Country                        0      0.0\n",
      "self_employed                  0      0.0\n",
      "family_history                 0      0.0\n",
      "treatment                      0      0.0\n",
      "work_interfere                 0      0.0\n",
      "no_employees                   0      0.0\n",
      "remote_work                    0      0.0\n",
      "tech_company                   0      0.0\n",
      "benefits                       0      0.0\n",
      "care_options                   0      0.0\n",
      "wellness_program               0      0.0\n",
      "seek_help                      0      0.0\n",
      "anonymity                      0      0.0\n",
      "leave                          0      0.0\n",
      "mental_health_consequence      0      0.0\n",
      "phys_health_consequence        0      0.0\n",
      "coworkers                      0      0.0\n",
      "supervisor                     0      0.0\n",
      "mental_health_interview        0      0.0\n",
      "phys_health_interview          0      0.0\n",
      "mental_vs_physical             0      0.0\n",
      "Timestamp                      0      0.0\n"
     ]
    }
   ],
   "source": [
    "#missing data\n",
    "total = df.isnull().sum().sort_values(ascending=False)\n",
    "percent = (df.isnull().sum()/df.isnull().count()).sort_values(ascending=False)\n",
    "missing_data = pd.concat([total, percent], axis=1, keys=['Total', 'Percent'])\n",
    "missing_data.head(20)\n",
    "print(missing_data)"
   ]
  },
  {
   "cell_type": "code",
   "execution_count": 79,
   "metadata": {},
   "outputs": [],
   "source": [
    "#deleting the age comments\n",
    "df = df.drop(columns='Timestamp')"
   ]
  },
  {
   "cell_type": "code",
   "execution_count": 80,
   "metadata": {},
   "outputs": [],
   "source": [
    "#df.benefits.head()"
   ]
  },
  {
   "cell_type": "code",
   "execution_count": 81,
   "metadata": {},
   "outputs": [],
   "source": [
    "#Questions \n",
    "#what is the distribution of age\n",
    "#what is the distribution of gender\n",
    "#what is the age and treatment distribution\n",
    "#further separate it into gender\n",
    "#what is the relationship between family history and treatment between genders\n",
    "#what is the relationship between work interference and treatment\n",
    "#what is the relationship between care_options and treatment\n"
   ]
  },
  {
   "cell_type": "code",
   "execution_count": 82,
   "metadata": {},
   "outputs": [],
   "source": [
    "def ecdf(data):\n",
    "    \"\"\"Compute ECDF for a one-dimensional array of measurements.\"\"\"\n",
    "    # Number of data points: n\n",
    "    n = len(data)\n",
    "\n",
    "    # x-data for the ECDF: x\n",
    "    x = np.sort(data)\n",
    "\n",
    "    # y-data for the ECDF: y\n",
    "    y = np.arange(1, n+1) / n\n",
    "\n",
    "    return x, y"
   ]
  },
  {
   "cell_type": "code",
   "execution_count": 83,
   "metadata": {},
   "outputs": [
    {
     "data": {
      "image/png": "[encoded data removed]",
      "text/plain": [
       "<matplotlib.figure.Figure at 0x22328cd1748>"
      ]
     },
     "metadata": {},
     "output_type": "display_data"
    },
    {
     "data": {
      "text/plain": [
       "<matplotlib.axes._subplots.AxesSubplot at 0x22328d7ac50>"
      ]
     },
     "execution_count": 83,
     "metadata": {},
     "output_type": "execute_result"
    },
    {
     "data": {
      "image/png": "[encoded data removed]",
      "text/plain": [
       "<matplotlib.figure.Figure at 0x22328c81828>"
      ]
     },
     "metadata": {},
     "output_type": "display_data"
    }
   ],
   "source": [
    "#distribution looks normal little right skewed, plotted the ecdf to confirm\n",
    "x,y = ecdf(df['Age'])\n",
    "_ = plt.plot(x, y, marker='.', linestyle='none')\n",
    "\n",
    "# Label the axes\n",
    "_ = plt.xlabel('Age')\n",
    "_ = plt.ylabel('ECDF')\n",
    "\n",
    "\n",
    "# Display the plot\n",
    "plt.show()\n",
    "\n",
    "sns.distplot(df['Age'], hist=True, kde=True, color = 'darkblue', \n",
    "             bins=48, hist_kws={'edgecolor':'black'},\n",
    "             kde_kws={'linewidth': 2})"
   ]
  },
  {
   "cell_type": "code",
   "execution_count": 84,
   "metadata": {},
   "outputs": [
    {
     "data": {
      "text/plain": [
       "[Text(0,0,'male'), Text(0,0,'female')]"
      ]
     },
     "execution_count": 84,
     "metadata": {},
     "output_type": "execute_result"
    },
    {
     "data": {
      "image/png": "[encoded data removed]",
      "text/plain": [
       "<matplotlib.figure.Figure at 0x22328cb6b00>"
      ]
     },
     "metadata": {},
     "output_type": "display_data"
    }
   ],
   "source": [
    "a = sns.countplot(x=\"Gender\", data=df);\n",
    "a.set_xticklabels(['male', 'female'])\n",
    "#significantly higher number of males as expected in the tech industry"
   ]
  },
  {
   "cell_type": "code",
   "execution_count": 85,
   "metadata": {},
   "outputs": [
    {
     "data": {
      "text/plain": [
       "[Text(0,0,'yes'), Text(0,0,'no')]"
      ]
     },
     "execution_count": 85,
     "metadata": {},
     "output_type": "execute_result"
    },
    {
     "data": {
      "image/png": "[encoded data removed]",
      "text/plain": [
       "<matplotlib.figure.Figure at 0x223290a9d30>"
      ]
     },
     "metadata": {},
     "output_type": "display_data"
    }
   ],
   "source": [
    "b = sns.countplot(x=\"treatment\", data=df);\n",
    "b.set_xticklabels(['yes', 'no'])"
   ]
  },
  {
   "cell_type": "code",
   "execution_count": 86,
   "metadata": {},
   "outputs": [
    {
     "data": {
      "image/png": "[encoded data removed]",
      "text/plain": [
       "<matplotlib.figure.Figure at 0x223291f1198>"
      ]
     },
     "metadata": {},
     "output_type": "display_data"
    }
   ],
   "source": [
    "# Separate by treatment or not and by gender\n",
    "g = sns.FacetGrid(df, col='treatment', row='Gender', size=5)\n",
    "g = g.map(sns.distplot, \"Age\")"
   ]
  },
  {
   "cell_type": "code",
   "execution_count": 87,
   "metadata": {},
   "outputs": [
    {
     "data": {
      "image/png": "[encoded data removed]",
      "text/plain": [
       "<matplotlib.figure.Figure at 0x223291ecb00>"
      ]
     },
     "metadata": {},
     "output_type": "display_data"
    }
   ],
   "source": [
    "# Separate by treatment or not and by gender\n",
    "f = sns.FacetGrid(df, col='treatment', row='family_history', size=5)\n",
    "f = f.map(sns.distplot, \"Age\")"
   ]
  },
  {
   "cell_type": "code",
   "execution_count": 88,
   "metadata": {},
   "outputs": [
    {
     "data": {
      "image/png": "[encoded data removed]",
      "text/plain": [
       "<matplotlib.figure.Figure at 0x22329c27940>"
      ]
     },
     "metadata": {},
     "output_type": "display_data"
    }
   ],
   "source": [
    "g = sns.factorplot(x=\"age_range\", y=\"treatment\", hue=\"Gender\", data=df, kind=\"bar\",  ci=None, size=5, aspect=2, legend_out = False)\n",
    "\n",
    "plt.title('Probability of mental health condition')\n",
    "plt.ylabel('Probability x 100')\n",
    "plt.xlabel('Age')\n",
    "\n",
    "g.set_xticklabels(['0-20', '21-30', '31-65', '66-100'])\n",
    "plt.legend(title='Gender', loc='upper left', labels=['Male', 'Female'])\n",
    "# Positioning the legend\n",
    "g.fig.subplots_adjust(top=0.9,right=0.8)\n",
    "\n",
    "\n",
    "plt.show()"
   ]
  },
  {
   "cell_type": "code",
   "execution_count": 89,
   "metadata": {},
   "outputs": [
    {
     "data": {
      "image/png": "[encoded data removed]",
      "text/plain": [
       "<matplotlib.figure.Figure at 0x22329f0d9e8>"
      ]
     },
     "metadata": {},
     "output_type": "display_data"
    }
   ],
   "source": [
    "g = sns.factorplot(x=\"family_history\", y=\"treatment\", hue=\"Gender\", data=df, kind=\"bar\", ci=None, size=5, aspect=2, legend_out = False)\n",
    "\n",
    "plt.title('Probability of mental health condition')\n",
    "plt.ylabel('Probability x 100')\n",
    "plt.xlabel('Family history')\n",
    "\n",
    "g.set_xticklabels(['No', 'Yes'])\n",
    "plt.legend(title='Gender', loc='upper left', labels=['Male', 'Female'])\n",
    "# Positioning the legend\n",
    "g.fig.subplots_adjust(top=0.9,right=0.8)\n",
    "\n",
    "plt.show()"
   ]
  },
  {
   "cell_type": "code",
   "execution_count": 90,
   "metadata": {},
   "outputs": [
    {
     "data": {
      "image/png": "[encoded data removed]",
      "text/plain": [
       "<matplotlib.figure.Figure at 0x22329f60dd8>"
      ]
     },
     "metadata": {},
     "output_type": "display_data"
    }
   ],
   "source": [
    "#df.care_options\n",
    "#not sure = 1\n",
    "#no = 0\n",
    "#yes = 2\n",
    "g = sns.factorplot(x=\"care_options\", y=\"treatment\", hue=\"Gender\", data=df, kind=\"bar\",  ci=None, size=5, aspect=2, legend_out = False)\n",
    "\n",
    "plt.title('Probability of mental health condition')\n",
    "plt.ylabel('Probability x 100')\n",
    "plt.xlabel('Care options')\n",
    "plt.legend(title='Gender', loc='upper left', labels=['Male', 'Female'])\n",
    "g.set_xticklabels(['No', 'Not Sure', 'Yes'])\n",
    "# Positioning the legend\n",
    "g.fig.subplots_adjust(top=0.9,right=0.8)\n",
    "\n",
    "plt.show()"
   ]
  },
  {
   "cell_type": "code",
   "execution_count": 91,
   "metadata": {},
   "outputs": [
    {
     "data": {
      "image/png": "[encoded data removed]",
      "text/plain": [
       "<matplotlib.figure.Figure at 0x2232922d400>"
      ]
     },
     "metadata": {},
     "output_type": "display_data"
    }
   ],
   "source": [
    "#2 - Yes\n",
    "#0 - dont know\n",
    "#1 - no\n",
    "g = sns.factorplot(x=\"benefits\", y=\"treatment\", hue=\"Gender\", data=df, kind=\"bar\",  ci=None, size=5, aspect=2, legend_out = False)\n",
    "\n",
    "plt.title('Probability of mental health condition')\n",
    "plt.ylabel('Probability x 100')\n",
    "plt.xlabel('Benefits')\n",
    "plt.legend(title='Gender', loc='upper left', labels=['Male', 'Female'])\n",
    "g.set_xticklabels(['Don\\'t Know', 'No', 'Yes'])\n",
    "# Positioning the legend\n",
    "g.fig.subplots_adjust(top=0.9,right=0.8)\n",
    "\n",
    "plt.show()"
   ]
  },
  {
   "cell_type": "code",
   "execution_count": 92,
   "metadata": {},
   "outputs": [
    {
     "data": {
      "image/png": "[encoded data removed]",
      "text/plain": [
       "<matplotlib.figure.Figure at 0x2232b011f60>"
      ]
     },
     "metadata": {},
     "output_type": "display_data"
    }
   ],
   "source": [
    "g = sns.factorplot(x=\"work_interfere\", y=\"treatment\", hue=\"Gender\", data=df, kind=\"bar\",  ci=None, size=5, aspect=2, legend_out = False)\n",
    "\n",
    "plt.title('Probability of mental health condition')\n",
    "plt.ylabel('Probability x 100')\n",
    "plt.xlabel('work interfere')\n",
    "\n",
    "g.set_xticklabels(['NA', 'Never', 'Often', 'Rarely', 'Sometimes'])\n",
    "# Positioning the legend\n",
    "plt.legend(title='Gender', loc='upper left', labels=['Male', 'Female'])\n",
    "g.fig.subplots_adjust(top=0.9,right=0.8)\n",
    "\n",
    "plt.show()\n",
    "#work interference\n",
    "#0 - NA\n",
    "#1 - Never\n",
    "#2 - Often\n",
    "#3 - Rarely\n",
    "#4 - Sometimes"
   ]
  },
  {
   "cell_type": "code",
   "execution_count": 93,
   "metadata": {},
   "outputs": [
    {
     "data": {
      "image/png": "[encoded data removed]",
      "text/plain": [
       "<matplotlib.figure.Figure at 0x2232b07b6d8>"
      ]
     },
     "metadata": {},
     "output_type": "display_data"
    },
    {
     "data": {
      "text/plain": [
       "0    1\n",
       "1    0\n",
       "2    2\n",
       "3    1\n",
       "4    1\n",
       "Name: coworkers, dtype: int64"
      ]
     },
     "execution_count": 93,
     "metadata": {},
     "output_type": "execute_result"
    }
   ],
   "source": [
    "g = sns.factorplot(x=\"coworkers\", y=\"treatment\", hue=\"Gender\", data=df, kind=\"bar\",  ci=None, size=5, aspect=2, legend_out = False)\n",
    "\n",
    "plt.title('Probability of mental health condition')\n",
    "plt.ylabel('Probability x 100')\n",
    "plt.xlabel('Willingness to discuss mental health with coworkers')\n",
    "\n",
    "g.set_xticklabels(['Some of them', 'No', 'Yes'])\n",
    "plt.legend(title='Gender', loc='upper left', labels=['Male', 'Female'])\n",
    "# Positioning the legend\n",
    "g.fig.subplots_adjust(top=0.9,right=0.8)\n",
    "\n",
    "\n",
    "plt.show()\n",
    "df.coworkers.head()\n",
    "#some of them - 1\n",
    "#no - 0\n",
    "#yes - 2"
   ]
  },
  {
   "cell_type": "code",
   "execution_count": 94,
   "metadata": {},
   "outputs": [
    {
     "data": {
      "text/plain": [
       "Counter({0: 767, 1: 492})"
      ]
     },
     "execution_count": 94,
     "metadata": {},
     "output_type": "execute_result"
    }
   ],
   "source": [
    "#process of testing the hypothesis by performing chi square on \n",
    "freq_family_hist = np.sort(df.family_history)\n",
    "counts_fam = collections.Counter(freq_family_hist)\n",
    "counts_fam"
   ]
  },
  {
   "cell_type": "code",
   "execution_count": 95,
   "metadata": {},
   "outputs": [
    {
     "data": {
      "text/plain": [
       "Counter({0: 622, 1: 637})"
      ]
     },
     "execution_count": 95,
     "metadata": {},
     "output_type": "execute_result"
    }
   ],
   "source": [
    "freq_treatment = np.sort(df.treatment)\n",
    "counts_treatment = collections.Counter(freq_treatment)\n",
    "counts_treatment"
   ]
  },
  {
   "cell_type": "code",
   "execution_count": 96,
   "metadata": {},
   "outputs": [],
   "source": [
    "table = [[767, 492], [622,637]]"
   ]
  },
  {
   "cell_type": "code",
   "execution_count": 97,
   "metadata": {},
   "outputs": [],
   "source": [
    "stat, p, dof, expected = stats.chi2_contingency(table, correction=False)"
   ]
  },
  {
   "cell_type": "code",
   "execution_count": 98,
   "metadata": {},
   "outputs": [
    {
     "data": {
      "text/plain": [
       "33.759463990444985"
      ]
     },
     "execution_count": 98,
     "metadata": {},
     "output_type": "execute_result"
    }
   ],
   "source": [
    "stat"
   ]
  },
  {
   "cell_type": "code",
   "execution_count": 99,
   "metadata": {},
   "outputs": [
    {
     "data": {
      "text/plain": [
       "6.236490588678939e-09"
      ]
     },
     "execution_count": 99,
     "metadata": {},
     "output_type": "execute_result"
    }
   ],
   "source": [
    "p\n",
    "#reject null hypothesis that family history and treatment are independent \n",
    "#Ha: not independent "
   ]
  },
  {
   "cell_type": "code",
   "execution_count": 100,
   "metadata": {},
   "outputs": [
    {
     "data": {
      "text/plain": [
       "1"
      ]
     },
     "execution_count": 100,
     "metadata": {},
     "output_type": "execute_result"
    }
   ],
   "source": [
    "dof"
   ]
  },
  {
   "cell_type": "code",
   "execution_count": 101,
   "metadata": {},
   "outputs": [
    {
     "data": {
      "text/plain": [
       "array([[694.5, 564.5],\n",
       "       [694.5, 564.5]])"
      ]
     },
     "execution_count": 101,
     "metadata": {},
     "output_type": "execute_result"
    }
   ],
   "source": [
    "expected"
   ]
  },
  {
   "cell_type": "markdown",
   "metadata": {},
   "source": [
    "<b> Chi-Squared Test of independence on all features to determine the statistically significant ones </b>"
   ]
  },
  {
   "cell_type": "code",
   "execution_count": 102,
   "metadata": {},
   "outputs": [
    {
     "data": {
      "text/plain": [
       "pandas.core.series.Series"
      ]
     },
     "execution_count": 102,
     "metadata": {},
     "output_type": "execute_result"
    }
   ],
   "source": [
    "chi_treatment = df['treatment']\n",
    "chi_df = df.drop(columns='treatment')\n",
    "type(chi_treatment)"
   ]
  },
  {
   "cell_type": "code",
   "execution_count": 103,
   "metadata": {},
   "outputs": [
    {
     "name": "stdout",
     "output_type": "stream",
     "text": [
      "p value for Gender : 1.2926175878204295e-12\n",
      "p value for Country : 0.01705720173000851\n",
      "p value for family_history : 1.1584182294491328e-40\n",
      "p value for treatment : 6.790757177941158e-275\n",
      "p value for work_interfere : 1.944084172920949e-127\n",
      "p value for benefits : 8.326816588490713e-15\n",
      "p value for care_options : 2.6509645800176187e-21\n",
      "p value for wellness_program : 0.003186522932181415\n",
      "p value for seek_help : 0.004223416520618908\n",
      "p value for anonymity : 1.8304549906790162e-06\n",
      "p value for leave : 5.025795235445741e-06\n",
      "p value for mental_health_consequence : 1.4180505235573011e-05\n",
      "p value for coworkers : 0.04975472196415934\n",
      "p value for mental_health_interview : 0.0017553628170834984\n",
      "p value for mental_vs_physical : 0.00016181406137210283\n",
      "p value for obs_consequence : 4.020553287446151e-08\n"
     ]
    }
   ],
   "source": [
    "for column in df:\n",
    "    crosstab = pd.crosstab(df[column], df['treatment'])\n",
    "    chi2, p, dof, expected = stats.chi2_contingency(crosstab)\n",
    "    if p < .05:\n",
    "        print('p value for', column, ':', p)"
   ]
  },
  {
   "cell_type": "markdown",
   "metadata": {},
   "source": [
    "<b> Perfrom a two sample Z test on family history vs treatment and gender vs treatment </b>"
   ]
  },
  {
   "cell_type": "code",
   "execution_count": 104,
   "metadata": {},
   "outputs": [
    {
     "name": "stdout",
     "output_type": "stream",
     "text": [
      "P value for family history for a two sample Z test or proportion is : 1.820343805112358e-47\n",
      "P value for Gender for a two sample Z test or proportion is : 2.6794412434712703e-13\n"
     ]
    }
   ],
   "source": [
    "from statsmodels.stats.weightstats import ztest\n",
    "#The family history was divided into the people who had a family history corresponding to treatment values and people who \n",
    "#didn't have a family history corresponding to treatment values.\n",
    "x_ztest = df[df.family_history==1].treatment\n",
    "y_ztest = df[df.family_history==0].treatment\n",
    "tstat, p = ztest(x_ztest, y_ztest)\n",
    "print(\"P value for family history for a two sample Z test or proportion is :\", p)\n",
    "\n",
    "#The gender was divided into males corresponding to treatment values and females corresponding to treatment values.\n",
    "male_ztest = df[df.Gender==0].treatment\n",
    "female_ztest = df[df.Gender==1].treatment\n",
    "tstat_gender, p_gender = ztest(male_ztest, female_ztest)\n",
    "print(\"P value for Gender for a two sample Z test or proportion is :\", p_gender)"
   ]
  },
  {
   "cell_type": "markdown",
   "metadata": {},
   "source": [
    "<b>Starting the Modeling process</b>"
   ]
  },
  {
   "cell_type": "code",
   "execution_count": 105,
   "metadata": {},
   "outputs": [],
   "source": [
    "# Import the necessary modules\n",
    "from sklearn.linear_model import LogisticRegression\n",
    "from sklearn.metrics import confusion_matrix, classification_report\n",
    "from sklearn.model_selection import train_test_split\n",
    "from sklearn.metrics import roc_curve"
   ]
  },
  {
   "cell_type": "code",
   "execution_count": 106,
   "metadata": {},
   "outputs": [
    {
     "data": {
      "text/plain": [
       "Index(['Gender', 'Country', 'self_employed', 'family_history',\n",
       "       'work_interfere', 'no_employees', 'remote_work', 'tech_company',\n",
       "       'benefits', 'care_options', 'wellness_program', 'seek_help',\n",
       "       'anonymity', 'leave', 'mental_health_consequence',\n",
       "       'phys_health_consequence', 'coworkers', 'supervisor',\n",
       "       'mental_health_interview', 'phys_health_interview',\n",
       "       'mental_vs_physical', 'obs_consequence', 'age_range'],\n",
       "      dtype='object')"
      ]
     },
     "execution_count": 106,
     "metadata": {},
     "output_type": "execute_result"
    }
   ],
   "source": [
    "# Create arrays for the features and the response variable\n",
    "y = df['treatment'].values\n",
    "X = df.drop(['treatment', 'Age'], axis=1).values\n",
    "X_df = df.drop(['treatment', 'Age'], axis=1).columns\n",
    "#X = df.drop('Age', axis=1).values\n",
    "X_df"
   ]
  },
  {
   "cell_type": "code",
   "execution_count": 107,
   "metadata": {},
   "outputs": [],
   "source": [
    "# Create training and test sets\n",
    "X_train, X_test, y_train, y_test = train_test_split(X, y, test_size = 0.3, random_state=21)"
   ]
  },
  {
   "cell_type": "code",
   "execution_count": 108,
   "metadata": {},
   "outputs": [
    {
     "name": "stdout",
     "output_type": "stream",
     "text": [
      "Best C: 1\n",
      "Best penalty: l1\n",
      "prediction: [1 1 0 0 1 0 0 1 1 0 1 1 0 1 0 0 0 1 1 0 1 1 0 0 1 0 1 1 0 1 1 1 0 0 1 0 1\n",
      " 1 1 0 0 0 0 1 0 1 0 0 0 0 0 1 1 1 0 1 1 0 0 1 1 1 0 1 1 1 1 1 1 1 0 1 1 1\n",
      " 0 0 0 0 1 0 0 0 0 0 1 1 0 0 0 1 1 0 0 1 0 1 0 0 1 1 1 0 1 0 1 1 1 1 1 0 1\n",
      " 0 0 1 1 0 1 0 1 1 0 1 1 1 1 1 0 0 1 1 1 1 0 0 0 1 1 1 0 1 1 1 0 1 0 1 0 1\n",
      " 0 1 1 0 0 1 0 1 1 1 0 1 1 0 0 0 1 1 0 0 0 0 1 0 1 1 0 0 1 0 0 1 1 0 1 1 0\n",
      " 1 0 1 0 0 1 1 1 0 0 0 0 0 0 0 0 0 1 0 1 1 0 1 1 0 1 1 0 0 1 1 1 1 0 0 1 0\n",
      " 0 0 0 0 1 0 0 0 0 1 0 0 1 1 0 1 0 0 0 0 0 0 1 1 1 1 1 1 0 0 0 1 1 1 0 0 0\n",
      " 1 1 0 1 1 0 0 1 1 1 1 0 1 0 1 0 0 0 1 0 0 0 1 1 1 0 1 1 0 0 0 0 1 1 0 1 0\n",
      " 1 1 0 1 0 0 0 0 1 1 0 0 1 1 1 0 0 1 0 0 0 0 1 1 0 1 0 0 1 0 1 1 1 1 0 0 0\n",
      " 0 0 0 1 0 1 0 1 1 0 1 0 0 1 0 1 1 1 1 0 0 1 1 0 0 1 1 1 0 1 1 1 0 0 1 0 1\n",
      " 1 1 1 1 0 0 1 0]\n",
      "accuracy store: 0.8306878306878307\n",
      "Confusion Matrix [[160  38]\n",
      " [ 26 154]]\n",
      "Classification Report              precision    recall  f1-score   support\n",
      "\n",
      "          0       0.86      0.81      0.83       198\n",
      "          1       0.80      0.86      0.83       180\n",
      "\n",
      "avg / total       0.83      0.83      0.83       378\n",
      "\n"
     ]
    },
    {
     "data": {
      "image/png": "[encoded data removed]",
      "text/plain": [
       "<matplotlib.figure.Figure at 0x2232a019240>"
      ]
     },
     "metadata": {},
     "output_type": "display_data"
    }
   ],
   "source": [
    "# Create the classifier: logreg\n",
    "#the grid of parameters to search over\n",
    "from sklearn.model_selection import GridSearchCV\n",
    "from sklearn.metrics import accuracy_score\n",
    "Cs = [0.001, .01, 0.1, 1, 10, 30, 60, 90, 100, 300, 600, 1000]\n",
    "#Cs = [0.001, .003, .006, .01, .03, .06, 0.1, .3, .6, 1, 3, 6, 10, 100]\n",
    "penalty = ['l1', 'l2']\n",
    "parameters = [{'C':Cs, 'penalty': penalty}]\n",
    "logreg = LogisticRegression()\n",
    "clf_lr = GridSearchCV(logreg, parameters, cv=5)\n",
    "best_model = clf_lr.fit(X_train, y_train)\n",
    "print('Best C:', best_model.best_estimator_.get_params()['C'])\n",
    "print('Best penalty:', best_model.best_estimator_.get_params()['penalty'])\n",
    "ytest_pred = best_model.predict(X_test)\n",
    "print('prediction:', ytest_pred)\n",
    "print('accuracy store:', accuracy_score(y_test, ytest_pred))\n",
    "print(\"Confusion Matrix\", confusion_matrix(y_test, ytest_pred))\n",
    "print(\"Classification Report\", classification_report(y_test, ytest_pred))\n",
    "# Compute predicted probabilities: y_pred_prob\n",
    "y_pred_prob = best_model.predict_proba(X_test)[:,1]\n",
    "# Generate ROC curve values: fpr, tpr, thresholds\n",
    "fpr_lr, tpr_lr, thresholds_lr = roc_curve(y_test, y_pred_prob)\n",
    "# Plot ROC curve\n",
    "plt.plot([0, 1], [0, 1], 'k--')\n",
    "plt.plot(fpr_lr, tpr_lr)\n",
    "plt.xlabel('False Positive Rate for improved model')\n",
    "plt.ylabel('True Positive Rate for improved model')\n",
    "plt.title('ROC Curve')\n",
    "plt.show()\n"
   ]
  },
  {
   "cell_type": "code",
   "execution_count": 109,
   "metadata": {},
   "outputs": [
    {
     "data": {
      "text/plain": [
       "LogisticRegression(C=1.0, class_weight=None, dual=False, fit_intercept=True,\n",
       "          intercept_scaling=1, max_iter=100, multi_class='ovr', n_jobs=1,\n",
       "          penalty='l2', random_state=None, solver='liblinear', tol=0.0001,\n",
       "          verbose=0, warm_start=False)"
      ]
     },
     "execution_count": 109,
     "metadata": {},
     "output_type": "execute_result"
    }
   ],
   "source": [
    "# Fit the classifier to the training data\n",
    "logreg.fit(X_train, y_train)"
   ]
  },
  {
   "cell_type": "code",
   "execution_count": 110,
   "metadata": {},
   "outputs": [],
   "source": [
    "# Predict the labels of the test set: y_pred\n",
    "y_pred = logreg.predict(X_test)"
   ]
  },
  {
   "cell_type": "code",
   "execution_count": 111,
   "metadata": {},
   "outputs": [
    {
     "name": "stdout",
     "output_type": "stream",
     "text": [
      "accuracy store: 0.8333333333333334\n",
      "[[159  39]\n",
      " [ 24 156]]\n",
      "             precision    recall  f1-score   support\n",
      "\n",
      "          0       0.87      0.80      0.83       198\n",
      "          1       0.80      0.87      0.83       180\n",
      "\n",
      "avg / total       0.84      0.83      0.83       378\n",
      "\n"
     ]
    }
   ],
   "source": [
    "# Compute and print the confusion matrix and classification report\n",
    "print('accuracy store:', accuracy_score(y_test, y_pred))\n",
    "print(confusion_matrix(y_test, y_pred))\n",
    "print(classification_report(y_test, y_pred))"
   ]
  },
  {
   "cell_type": "markdown",
   "metadata": {},
   "source": [
    "<b>Plotting the ROC curve</b>"
   ]
  },
  {
   "cell_type": "code",
   "execution_count": 112,
   "metadata": {},
   "outputs": [],
   "source": [
    "# Import necessary modules\n",
    "from sklearn.metrics import roc_curve"
   ]
  },
  {
   "cell_type": "code",
   "execution_count": 113,
   "metadata": {},
   "outputs": [],
   "source": [
    "# Compute predicted probabilities: y_pred_prob\n",
    "y_pred_prob = logreg.predict_proba(X_test)[:,1]"
   ]
  },
  {
   "cell_type": "code",
   "execution_count": 114,
   "metadata": {},
   "outputs": [],
   "source": [
    "# Generate ROC curve values: fpr, tpr, thresholds\n",
    "fpr, tpr, thresholds = roc_curve(y_test, y_pred_prob)"
   ]
  },
  {
   "cell_type": "code",
   "execution_count": 115,
   "metadata": {},
   "outputs": [
    {
     "data": {
      "image/png": "[encoded data removed]",
      "text/plain": [
       "<matplotlib.figure.Figure at 0x22329fe0198>"
      ]
     },
     "metadata": {},
     "output_type": "display_data"
    }
   ],
   "source": [
    "# Plot ROC curve\n",
    "plt.plot([0, 1], [0, 1], 'k--')\n",
    "plt.plot(fpr, tpr)\n",
    "plt.xlabel('False Positive Rate')\n",
    "plt.ylabel('True Positive Rate')\n",
    "plt.title('ROC Curve - Logistic Regression')\n",
    "plt.show()"
   ]
  },
  {
   "cell_type": "markdown",
   "metadata": {},
   "source": [
    "<b>Starting a Random Forest Classifier</b>"
   ]
  },
  {
   "cell_type": "code",
   "execution_count": 116,
   "metadata": {},
   "outputs": [],
   "source": [
    "from sklearn.ensemble import RandomForestClassifier"
   ]
  },
  {
   "cell_type": "code",
   "execution_count": 117,
   "metadata": {},
   "outputs": [
    {
     "name": "stdout",
     "output_type": "stream",
     "text": [
      "Best params: {'bootstrap': True, 'class_weight': None, 'criterion': 'gini', 'max_depth': None, 'max_features': 'auto', 'max_leaf_nodes': None, 'min_impurity_decrease': 0.0, 'min_impurity_split': None, 'min_samples_leaf': 1, 'min_samples_split': 2, 'min_weight_fraction_leaf': 0.0, 'n_estimators': 250, 'n_jobs': 1, 'oob_score': False, 'random_state': None, 'verbose': 0, 'warm_start': False}\n",
      "Confusion Matrix [[159  39]\n",
      " [ 22 158]]\n",
      "Classification Report              precision    recall  f1-score   support\n",
      "\n",
      "          0       0.88      0.80      0.84       198\n",
      "          1       0.80      0.88      0.84       180\n",
      "\n",
      "avg / total       0.84      0.84      0.84       378\n",
      "\n"
     ]
    },
    {
     "data": {
      "image/png": "[encoded data removed]",
      "text/plain": [
       "<matplotlib.figure.Figure at 0x2232919a0f0>"
      ]
     },
     "metadata": {},
     "output_type": "display_data"
    }
   ],
   "source": [
    "rf_tuned = RandomForestClassifier()\n",
    "param_grid = [\n",
    "    {'n_estimators' : list(range(100,1000,50))}\n",
    "]\n",
    "clf_rf = GridSearchCV(rf_tuned, param_grid, cv=6)\n",
    "best_model_rf = clf_rf.fit(X_train, y_train)\n",
    "print('Best params:', best_model_rf.best_estimator_.get_params())\n",
    "ytest_pred_rf = best_model_rf.predict(X_test)\n",
    "accuracy_score(y_test, ytest_pred_rf)\n",
    "print(\"Confusion Matrix\", confusion_matrix(y_test, ytest_pred_rf))\n",
    "print(\"Classification Report\", classification_report(y_test, ytest_pred_rf))\n",
    "# Compute predicted probabilities: y_pred_prob\n",
    "y_pred_prob_rf = best_model_rf.predict_proba(X_test)[:,1]\n",
    "# Generate ROC curve values: fpr, tpr, thresholds\n",
    "fpr_rf, tpr_rf, thresholds_rf = roc_curve(y_test, y_pred_prob_rf)\n",
    "#print(\"feature importances:\", best_model_rf.feature_importances_)\n",
    "# Plot ROC curve\n",
    "plt.plot([0, 1], [0, 1], 'k--')\n",
    "plt.plot(fpr_rf, tpr_rf)\n",
    "plt.xlabel('False Positive Rate for improved rf model')\n",
    "plt.ylabel('True Positive Rate for improved rf model')\n",
    "plt.title('ROC Curve')\n",
    "plt.show()"
   ]
  },
  {
   "cell_type": "code",
   "execution_count": 118,
   "metadata": {},
   "outputs": [
    {
     "data": {
      "text/plain": [
       "0.8386243386243386"
      ]
     },
     "execution_count": 118,
     "metadata": {},
     "output_type": "execute_result"
    }
   ],
   "source": [
    "accuracy_score(y_test, ytest_pred_rf)"
   ]
  },
  {
   "cell_type": "code",
   "execution_count": 119,
   "metadata": {},
   "outputs": [
    {
     "name": "stdout",
     "output_type": "stream",
     "text": [
      "[0.03163867 0.05403485 0.01070563 0.07205958 0.33148053 0.0488277\n",
      " 0.01833729 0.01536085 0.03520307 0.04184564 0.02418896 0.02618419\n",
      " 0.02054404 0.04379724 0.02904071 0.0198375  0.03085774 0.02964609\n",
      " 0.01567415 0.03048869 0.02778029 0.01658828 0.02587829]\n"
     ]
    },
    {
     "data": {
      "text/plain": [
       "Index(['Gender', 'Country', 'self_employed', 'family_history',\n",
       "       'work_interfere', 'no_employees', 'remote_work', 'tech_company',\n",
       "       'benefits', 'care_options', 'wellness_program', 'seek_help',\n",
       "       'anonymity', 'leave', 'mental_health_consequence',\n",
       "       'phys_health_consequence', 'coworkers', 'supervisor',\n",
       "       'mental_health_interview', 'phys_health_interview',\n",
       "       'mental_vs_physical', 'obs_consequence', 'age_range'],\n",
       "      dtype='object')"
      ]
     },
     "execution_count": 119,
     "metadata": {},
     "output_type": "execute_result"
    }
   ],
   "source": [
    "clf_rf_fi = RandomForestClassifier(n_estimators=600)\n",
    "clf_rf_fi.fit(X_train, y_train)\n",
    "clf_rf_fi.predict(X_test)\n",
    "print(clf_rf_fi.feature_importances_)\n",
    "X_df"
   ]
  },
  {
   "cell_type": "code",
   "execution_count": 142,
   "metadata": {},
   "outputs": [
    {
     "name": "stdout",
     "output_type": "stream",
     "text": [
      "Feature ranking:\n",
      "1. feature work_interfere (0.331481)\n",
      "2. feature family_history (0.072060)\n",
      "3. feature Country (0.054035)\n",
      "4. feature no_employees (0.048828)\n",
      "5. feature leave (0.043797)\n",
      "6. feature care_options (0.041846)\n",
      "7. feature benefits (0.035203)\n",
      "8. feature Gender (0.031639)\n",
      "9. feature coworkers (0.030858)\n",
      "10. feature phys_health_interview (0.030489)\n",
      "11. feature supervisor (0.029646)\n",
      "12. feature mental_health_consequence (0.029041)\n",
      "13. feature mental_vs_physical (0.027780)\n",
      "14. feature seek_help (0.026184)\n",
      "15. feature age_range (0.025878)\n",
      "16. feature wellness_program (0.024189)\n",
      "17. feature anonymity (0.020544)\n",
      "18. feature phys_health_consequence (0.019838)\n",
      "19. feature remote_work (0.018337)\n",
      "20. feature obs_consequence (0.016588)\n",
      "21. feature mental_health_interview (0.015674)\n",
      "22. feature tech_company (0.015361)\n",
      "23. feature self_employed (0.010706)\n"
     ]
    },
    {
     "data": {
      "image/png": "[encoded data removed]",
      "text/plain": [
       "<matplotlib.figure.Figure at 0x22329da1e10>"
      ]
     },
     "metadata": {},
     "output_type": "display_data"
    }
   ],
   "source": [
    "indices = np.argsort(clf_rf_fi.feature_importances_)[::-1]\n",
    "\n",
    "# Print the feature ranking\n",
    "print(\"Feature ranking:\")\n",
    "\n",
    "for f in range(X.shape[1]):\n",
    "    print(\"%d. feature %s (%f)\" % (f + 1, X_df[indices[f]], clf_rf_fi.feature_importances_[indices[f]]))\n",
    "\n",
    "# Plot the feature importances of the forest\n",
    "plt.figure()\n",
    "plt.title(\"Feature importances\")\n",
    "plt.barh(range(X.shape[1]), clf_rf_fi.feature_importances_[indices],\n",
    "       color=\"r\", align=\"center\")\n",
    "plt.xlabel('Feature importance proportion')\n",
    "plt.yticks(range(X.shape[1]), X_df[indices])\n",
    "#plt.xticks(range(X.shape[1]), X_df[indices], rotation='90')\n",
    "#plt.xlim([-1, X.shape[1]])\n",
    "plt.show()"
   ]
  },
  {
   "cell_type": "code",
   "execution_count": 121,
   "metadata": {},
   "outputs": [
    {
     "data": {
      "text/plain": [
       "RandomForestClassifier(bootstrap=True, class_weight=None, criterion='gini',\n",
       "            max_depth=None, max_features='auto', max_leaf_nodes=None,\n",
       "            min_impurity_decrease=0.0, min_impurity_split=None,\n",
       "            min_samples_leaf=1, min_samples_split=2,\n",
       "            min_weight_fraction_leaf=0.0, n_estimators=800, n_jobs=1,\n",
       "            oob_score=False, random_state=None, verbose=0,\n",
       "            warm_start=False)"
      ]
     },
     "execution_count": 121,
     "metadata": {},
     "output_type": "execute_result"
    }
   ],
   "source": [
    "rf = RandomForestClassifier(n_estimators=800)\n",
    "rf.fit(X_train, y_train)"
   ]
  },
  {
   "cell_type": "code",
   "execution_count": 122,
   "metadata": {},
   "outputs": [],
   "source": [
    "rf_predictions = rf.predict(X_test)"
   ]
  },
  {
   "cell_type": "code",
   "execution_count": 123,
   "metadata": {},
   "outputs": [
    {
     "name": "stdout",
     "output_type": "stream",
     "text": [
      "0.8412698412698413\n",
      "[[158  40]\n",
      " [ 20 160]]\n",
      "             precision    recall  f1-score   support\n",
      "\n",
      "          0       0.89      0.80      0.84       198\n",
      "          1       0.80      0.89      0.84       180\n",
      "\n",
      "avg / total       0.85      0.84      0.84       378\n",
      "\n"
     ]
    }
   ],
   "source": [
    "print(accuracy_score(y_test, rf_predictions))\n",
    "print(confusion_matrix(y_test, rf_predictions))\n",
    "print(classification_report(y_test, rf_predictions))"
   ]
  },
  {
   "cell_type": "code",
   "execution_count": 124,
   "metadata": {},
   "outputs": [],
   "source": [
    "# Compute predicted probabilities: rf_pred_prob\n",
    "rf_pred_prob = logreg.predict_proba(X_test)[:,1]"
   ]
  },
  {
   "cell_type": "code",
   "execution_count": 125,
   "metadata": {},
   "outputs": [],
   "source": [
    "# Generate ROC curve values: fpr, tpr, thresholds\n",
    "fpr_rf, tpr_rf, thresholds_rf = roc_curve(y_test, rf_pred_prob)"
   ]
  },
  {
   "cell_type": "code",
   "execution_count": 126,
   "metadata": {},
   "outputs": [
    {
     "data": {
      "image/png": "[encoded data removed]",
      "text/plain": [
       "<matplotlib.figure.Figure at 0x22329c655c0>"
      ]
     },
     "metadata": {},
     "output_type": "display_data"
    }
   ],
   "source": [
    "# Plot ROC curve\n",
    "plt.plot([0, 1], [0, 1], 'k--')\n",
    "plt.plot(fpr_rf, tpr_rf)\n",
    "plt.xlabel('False Positive Rate')\n",
    "plt.ylabel('True Positive Rate')\n",
    "plt.title('ROC Curve for Random Forest Classifier')\n",
    "plt.show()"
   ]
  },
  {
   "cell_type": "markdown",
   "metadata": {},
   "source": [
    "<b>Starting SVM Classifier </b>"
   ]
  },
  {
   "cell_type": "code",
   "execution_count": 127,
   "metadata": {},
   "outputs": [],
   "source": [
    "from sklearn import svm"
   ]
  },
  {
   "cell_type": "code",
   "execution_count": 128,
   "metadata": {},
   "outputs": [],
   "source": [
    "#initialize the model\n",
    "svm_model = svm.SVC(kernel='linear')"
   ]
  },
  {
   "cell_type": "code",
   "execution_count": 129,
   "metadata": {},
   "outputs": [
    {
     "data": {
      "text/plain": [
       "SVC(C=1.0, cache_size=200, class_weight=None, coef0=0.0,\n",
       "  decision_function_shape='ovr', degree=3, gamma='auto', kernel='linear',\n",
       "  max_iter=-1, probability=False, random_state=None, shrinking=True,\n",
       "  tol=0.001, verbose=False)"
      ]
     },
     "execution_count": 129,
     "metadata": {},
     "output_type": "execute_result"
    }
   ],
   "source": [
    "#fit the model\n",
    "svm_model.fit(X_train, y_train)"
   ]
  },
  {
   "cell_type": "code",
   "execution_count": 130,
   "metadata": {
    "scrolled": true
   },
   "outputs": [
    {
     "data": {
      "text/plain": [
       "'\\n#Visualize the results\\nw = svm_model.coef_[0]\\na = -w[0] / w[1]\\nxx = np.linspace(5,30)\\nyy = a * xx - (svm_model.intercept_[0] / w[1])\\n\\n#Plot the parallels to the separating hyperplane that pass through the Support Vectors\\nb = svm_model.support_vectors_[0]\\nyy_down = a * xx + (b[1] - a * b[0])\\nb = svm_model.support_vectors_[-1]\\nyy_up = a * xx + (b[1] - a * b[0])'"
      ]
     },
     "execution_count": 130,
     "metadata": {},
     "output_type": "execute_result"
    }
   ],
   "source": [
    "'''\n",
    "#Visualize the results\n",
    "w = svm_model.coef_[0]\n",
    "a = -w[0] / w[1]\n",
    "xx = np.linspace(5,30)\n",
    "yy = a * xx - (svm_model.intercept_[0] / w[1])\n",
    "\n",
    "#Plot the parallels to the separating hyperplane that pass through the Support Vectors\n",
    "b = svm_model.support_vectors_[0]\n",
    "yy_down = a * xx + (b[1] - a * b[0])\n",
    "b = svm_model.support_vectors_[-1]\n",
    "yy_up = a * xx + (b[1] - a * b[0])'''"
   ]
  },
  {
   "cell_type": "code",
   "execution_count": 131,
   "metadata": {},
   "outputs": [],
   "source": [
    "svm_prediction = svm_model.predict(X_test)"
   ]
  },
  {
   "cell_type": "code",
   "execution_count": 132,
   "metadata": {},
   "outputs": [
    {
     "name": "stdout",
     "output_type": "stream",
     "text": [
      "accuracy store: 0.8306878306878307\n",
      "[[157  41]\n",
      " [ 23 157]]\n",
      "             precision    recall  f1-score   support\n",
      "\n",
      "          0       0.87      0.79      0.83       198\n",
      "          1       0.79      0.87      0.83       180\n",
      "\n",
      "avg / total       0.83      0.83      0.83       378\n",
      "\n"
     ]
    }
   ],
   "source": [
    "print('accuracy store:', accuracy_score(y_test, svm_prediction))\n",
    "print(confusion_matrix(y_test, svm_prediction))\n",
    "print(classification_report(y_test, svm_prediction))"
   ]
  },
  {
   "cell_type": "code",
   "execution_count": 133,
   "metadata": {},
   "outputs": [],
   "source": [
    "# Compute predicted probabilities: y_pred_prob\n",
    "svm_pred_prob = logreg.predict_proba(X_test)[:,1]"
   ]
  },
  {
   "cell_type": "code",
   "execution_count": 134,
   "metadata": {},
   "outputs": [],
   "source": [
    "# Generate ROC curve values: fpr, tpr, thresholds\n",
    "fpr_svm, tpr_svm, thresholds_svm = roc_curve(y_test, svm_prediction)"
   ]
  },
  {
   "cell_type": "code",
   "execution_count": 135,
   "metadata": {},
   "outputs": [
    {
     "data": {
      "image/png": "[encoded data removed]",
      "text/plain": [
       "<matplotlib.figure.Figure at 0x22329bb7c50>"
      ]
     },
     "metadata": {},
     "output_type": "display_data"
    }
   ],
   "source": [
    "# Plot ROC curve\n",
    "plt.plot([0, 1], [0, 1], 'k--')\n",
    "plt.plot(fpr_svm, tpr_svm)\n",
    "plt.xlabel('False Positive Rate')\n",
    "plt.ylabel('True Positive Rate')\n",
    "plt.title('ROC Curve for Support Vector Machine')\n",
    "plt.show()"
   ]
  },
  {
   "cell_type": "code",
   "execution_count": 143,
   "metadata": {},
   "outputs": [
    {
     "name": "stdout",
     "output_type": "stream",
     "text": [
      "Best C: 1\n",
      "Best gamma: 0.001\n",
      "prediction: [1 1 0 0 1 0 0 1 1 0 1 1 1 1 0 0 0 1 1 0 1 1 0 0 1 0 1 1 0 1 1 1 0 0 1 0 1\n",
      " 1 1 0 0 0 0 1 1 1 0 0 0 0 0 1 1 1 0 1 1 0 0 1 1 1 0 1 1 1 1 1 1 1 0 0 1 1\n",
      " 1 0 0 0 1 0 0 0 0 0 1 1 0 1 0 1 1 0 0 1 0 1 0 0 1 1 1 0 1 0 1 1 1 1 1 0 1\n",
      " 0 0 1 1 0 1 0 1 1 0 1 1 1 1 1 0 0 1 1 1 1 0 0 0 1 1 1 0 1 1 1 0 1 0 1 0 1\n",
      " 0 1 1 0 0 1 1 1 1 1 0 1 1 0 0 0 1 1 0 0 0 0 1 0 1 1 0 0 1 0 0 1 1 0 1 1 0\n",
      " 1 0 1 0 0 1 1 1 0 0 0 0 0 0 0 0 0 1 0 1 1 0 1 1 0 1 1 0 0 1 1 1 1 0 0 1 0\n",
      " 0 0 0 0 1 0 1 1 0 1 0 0 1 1 0 1 0 0 0 0 0 0 1 1 1 1 1 1 0 0 0 1 1 1 0 0 0\n",
      " 1 1 0 1 1 0 0 1 1 1 1 0 1 0 1 0 0 0 1 0 0 0 1 1 1 0 0 1 0 0 0 0 1 1 0 1 0\n",
      " 1 1 0 1 1 0 0 0 1 1 0 0 1 1 1 0 0 1 0 0 0 0 1 1 0 1 0 0 1 0 1 1 1 1 0 0 0\n",
      " 0 0 0 1 0 1 0 1 1 0 1 0 0 1 0 1 1 1 1 0 0 1 1 0 0 1 1 1 0 1 1 1 0 0 1 0 1\n",
      " 1 1 1 1 0 0 1 0]\n",
      "accuracy store: 0.8306878306878307\n",
      "Confusion Matrix [[157  41]\n",
      " [ 23 157]]\n",
      "Classification Report              precision    recall  f1-score   support\n",
      "\n",
      "          0       0.87      0.79      0.83       198\n",
      "          1       0.79      0.87      0.83       180\n",
      "\n",
      "avg / total       0.83      0.83      0.83       378\n",
      "\n"
     ]
    }
   ],
   "source": [
    "#creating a tuned SVM model\n",
    "#initialize the model\n",
    "param_grid_svc = [\n",
    "  {'C': [1, 10, 100, 1000], 'gamma': [0.001, 0.0001]}\n",
    " ]\n",
    "svm_model_tuned = svm.SVC(kernel='linear')\n",
    "#fit the model\n",
    "svm_tuned = GridSearchCV(svm_model_tuned, param_grid_svc, cv=5)\n",
    "best_model = svm_tuned.fit(X_train, y_train)\n",
    "print('Best C:', best_model.best_estimator_.get_params()['C'])\n",
    "print('Best gamma:', best_model.best_estimator_.get_params()['gamma'])\n",
    "ytest_pred_svc = best_model.predict(X_test)\n",
    "print('prediction:', ytest_pred_svc)\n",
    "print('accuracy store:', accuracy_score(y_test, ytest_pred_svc))\n",
    "print(\"Confusion Matrix\", confusion_matrix(y_test, ytest_pred_svc))\n",
    "print(\"Classification Report\", classification_report(y_test, ytest_pred_svc))\n",
    "# Compute predicted probabilities: y_pred_prob\n",
    "#y_pred_prob_svc = best_model.predict_proba(X_test)[:,1]\n",
    "# Generate ROC curve values: fpr, tpr, thresholds\n",
    "\n"
   ]
  },
  {
   "cell_type": "code",
   "execution_count": null,
   "metadata": {},
   "outputs": [],
   "source": []
  },
  {
   "cell_type": "code",
   "execution_count": null,
   "metadata": {},
   "outputs": [],
   "source": []
  }
 ],
 "metadata": {
  "kernelspec": {
   "display_name": "Python 3",
   "language": "python",
   "name": "python3"
  },
  "language_info": {
   "codemirror_mode": {
    "name": "ipython",
    "version": 3
   },
   "file_extension": ".py",
   "mimetype": "text/x-python",
   "name": "python",
   "nbconvert_exporter": "python",
   "pygments_lexer": "ipython3",
   "version": "3.6.4"
  }
 },
 "nbformat": 4,
 "nbformat_minor": 2
}
